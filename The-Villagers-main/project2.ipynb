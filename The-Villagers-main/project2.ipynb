{
 "cells": [
  {
   "cell_type": "code",
   "execution_count": 2,
   "id": "surprised-appliance",
   "metadata": {},
   "outputs": [
    {
     "name": "stdout",
     "output_type": "stream",
     "text": [
      "env: PGDATABASE=postgres\n",
      "env: PGHOST=10.8.114.3\n",
      "env: PGPORT=5432\n",
      "env: PGUSER=postgres\n",
      "env: PGPASSWORD=AlexiaAmber\n",
      "env: PGINSTANCE=pg\n"
     ]
    }
   ],
   "source": [
    "%env PGDATABASE=postgres\n",
    "%env PGHOST=10.8.114.3\n",
    "%env PGPORT=5432\n",
    "%env PGUSER=postgres\n",
    "%env PGPASSWORD=AlexiaAmber\n",
    "%env PGINSTANCE=pg"
   ]
  },
  {
   "cell_type": "markdown",
   "id": "facial-uruguay",
   "metadata": {},
   "source": [
    "### Create the schema and database objects"
   ]
  },
  {
   "cell_type": "code",
   "execution_count": 5,
   "id": "unnecessary-rochester",
   "metadata": {},
   "outputs": [
    {
     "name": "stdout",
     "output_type": "stream",
     "text": [
      "psql:/home/jupyter/pagila/pagila-schema.sql:8: NOTICE:  schema \"pagila\" does not exist, skipping\n",
      "DROP SCHEMA\n",
      "CREATE SCHEMA\n",
      "SET\n",
      "SET\n",
      "SET\n",
      "SET\n",
      "SET\n",
      "SET\n",
      "SET\n",
      "SET\n",
      "SET\n",
      "CREATE EXTENSION\n",
      "CREATE TYPE\n",
      "ALTER TYPE\n",
      "CREATE DOMAIN\n",
      "ALTER DOMAIN\n",
      "CREATE FUNCTION\n",
      "ALTER FUNCTION\n",
      "CREATE FUNCTION\n",
      "ALTER FUNCTION\n",
      "CREATE FUNCTION\n",
      "ALTER FUNCTION\n",
      "CREATE FUNCTION\n",
      "ALTER FUNCTION\n",
      "CREATE FUNCTION\n",
      "ALTER FUNCTION\n",
      "CREATE FUNCTION\n",
      "ALTER FUNCTION\n",
      "CREATE FUNCTION\n",
      "ALTER FUNCTION\n",
      "CREATE FUNCTION\n",
      "ALTER FUNCTION\n",
      "CREATE SEQUENCE\n",
      "ALTER TABLE\n",
      "SET\n",
      "SET\n",
      "CREATE TABLE\n",
      "ALTER TABLE\n",
      "CREATE FUNCTION\n",
      "ALTER FUNCTION\n",
      "CREATE AGGREGATE\n",
      "ALTER AGGREGATE\n",
      "CREATE SEQUENCE\n",
      "ALTER TABLE\n",
      "CREATE TABLE\n",
      "ALTER TABLE\n",
      "CREATE SEQUENCE\n",
      "ALTER TABLE\n",
      "CREATE TABLE\n",
      "ALTER TABLE\n",
      "CREATE SEQUENCE\n",
      "ALTER TABLE\n",
      "CREATE TABLE\n",
      "ALTER TABLE\n",
      "CREATE TABLE\n",
      "ALTER TABLE\n",
      "CREATE TABLE\n",
      "ALTER TABLE\n",
      "CREATE VIEW\n",
      "ALTER TABLE\n",
      "CREATE SEQUENCE\n",
      "ALTER TABLE\n",
      "CREATE TABLE\n",
      "ALTER TABLE\n",
      "CREATE SEQUENCE\n",
      "ALTER TABLE\n",
      "CREATE TABLE\n",
      "ALTER TABLE\n",
      "CREATE SEQUENCE\n",
      "ALTER TABLE\n",
      "CREATE TABLE\n",
      "ALTER TABLE\n",
      "CREATE VIEW\n",
      "ALTER TABLE\n",
      "CREATE VIEW\n",
      "ALTER TABLE\n",
      "CREATE SEQUENCE\n",
      "ALTER TABLE\n",
      "CREATE TABLE\n",
      "ALTER TABLE\n",
      "CREATE SEQUENCE\n",
      "ALTER TABLE\n",
      "CREATE TABLE\n",
      "ALTER TABLE\n",
      "CREATE VIEW\n",
      "ALTER TABLE\n",
      "CREATE SEQUENCE\n",
      "ALTER TABLE\n",
      "CREATE TABLE\n",
      "ALTER TABLE\n",
      "CREATE SEQUENCE\n",
      "ALTER TABLE\n",
      "CREATE TABLE\n",
      "ALTER TABLE\n",
      "CREATE VIEW\n",
      "ALTER TABLE\n",
      "CREATE SEQUENCE\n",
      "ALTER TABLE\n",
      "CREATE TABLE\n",
      "ALTER TABLE\n",
      "CREATE SEQUENCE\n",
      "ALTER TABLE\n",
      "CREATE TABLE\n",
      "ALTER TABLE\n",
      "CREATE VIEW\n",
      "ALTER TABLE\n",
      "CREATE VIEW\n",
      "ALTER TABLE\n",
      "ALTER TABLE\n",
      "ALTER TABLE\n",
      "ALTER TABLE\n",
      "ALTER TABLE\n",
      "ALTER TABLE\n",
      "ALTER TABLE\n",
      "ALTER TABLE\n",
      "ALTER TABLE\n",
      "ALTER TABLE\n",
      "ALTER TABLE\n",
      "ALTER TABLE\n",
      "ALTER TABLE\n",
      "ALTER TABLE\n",
      "CREATE INDEX\n",
      "CREATE INDEX\n",
      "CREATE INDEX\n",
      "CREATE INDEX\n",
      "CREATE INDEX\n",
      "CREATE INDEX\n",
      "CREATE INDEX\n",
      "CREATE INDEX\n",
      "CREATE INDEX\n",
      "CREATE INDEX\n",
      "CREATE INDEX\n",
      "CREATE INDEX\n",
      "CREATE INDEX\n",
      "CREATE INDEX\n",
      "CREATE INDEX\n",
      "CREATE INDEX\n",
      "CREATE INDEX\n",
      "CREATE TRIGGER\n",
      "CREATE TRIGGER\n",
      "CREATE TRIGGER\n",
      "CREATE TRIGGER\n",
      "CREATE TRIGGER\n",
      "CREATE TRIGGER\n",
      "CREATE TRIGGER\n",
      "CREATE TRIGGER\n",
      "CREATE TRIGGER\n",
      "CREATE TRIGGER\n",
      "CREATE TRIGGER\n",
      "CREATE TRIGGER\n",
      "CREATE TRIGGER\n",
      "CREATE TRIGGER\n",
      "CREATE TRIGGER\n",
      "ALTER TABLE\n",
      "ALTER TABLE\n",
      "ALTER TABLE\n",
      "ALTER TABLE\n",
      "ALTER TABLE\n",
      "ALTER TABLE\n",
      "ALTER TABLE\n",
      "ALTER TABLE\n",
      "ALTER TABLE\n",
      "ALTER TABLE\n",
      "ALTER TABLE\n",
      "ALTER TABLE\n",
      "ALTER TABLE\n",
      "ALTER TABLE\n",
      "ALTER TABLE\n",
      "ALTER TABLE\n",
      "ALTER TABLE\n",
      "ALTER TABLE\n"
     ]
    }
   ],
   "source": [
    "!psql -c \"\\i /home/jupyter/pagila/pagila-schema.sql\""
   ]
  },
  {
   "cell_type": "markdown",
   "id": "orange-capacity",
   "metadata": {},
   "source": [
    "### Populate the pagila tables"
   ]
  },
  {
   "cell_type": "code",
   "execution_count": null,
   "id": "instrumental-account",
   "metadata": {},
   "outputs": [],
   "source": [
    "!psql -c \"\\i /home/jupyter/pagila/pagila-insert-data.sql\""
   ]
  },
  {
   "cell_type": "markdown",
   "id": "innocent-genre",
   "metadata": {},
   "source": [
    "### Describe each table using \\d"
   ]
  },
  {
   "cell_type": "code",
   "execution_count": 8,
   "id": "smaller-stocks",
   "metadata": {},
   "outputs": [
    {
     "name": "stdout",
     "output_type": "stream",
     "text": [
      "                                              Table \"pagila.actor\"\n",
      "   Column    |           Type           | Collation | Nullable |                    Default                     \n",
      "-------------+--------------------------+-----------+----------+------------------------------------------------\n",
      " actor_id    | integer                  |           | not null | nextval('pagila.actor_actor_id_seq'::regclass)\n",
      " first_name  | text                     |           | not null | \n",
      " last_name   | text                     |           | not null | \n",
      " last_update | timestamp with time zone |           | not null | now()\n",
      "Indexes:\n",
      "    \"actor_pkey\" PRIMARY KEY, btree (actor_id)\n",
      "    \"idx_actor_last_name\" btree (last_name)\n",
      "Referenced by:\n",
      "    TABLE \"pagila.film_actor\" CONSTRAINT \"film_actor_actor_id_fkey\" FOREIGN KEY (actor_id) REFERENCES pagila.actor(actor_id) ON UPDATE CASCADE ON DELETE RESTRICT\n",
      "Triggers:\n",
      "    last_updated BEFORE UPDATE ON pagila.actor FOR EACH ROW EXECUTE PROCEDURE pagila.last_updated()\n",
      "\n"
     ]
    }
   ],
   "source": [
    "!psql -c \"\\d pagila.actor\""
   ]
  },
  {
   "cell_type": "code",
   "execution_count": 9,
   "id": "elect-range",
   "metadata": {},
   "outputs": [
    {
     "name": "stdout",
     "output_type": "stream",
     "text": [
      "                                                  Table \"pagila.film\"\n",
      "        Column        |           Type           | Collation | Nullable |                   Default                    \n",
      "----------------------+--------------------------+-----------+----------+----------------------------------------------\n",
      " film_id              | integer                  |           | not null | nextval('pagila.film_film_id_seq'::regclass)\n",
      " title                | text                     |           | not null | \n",
      " description          | text                     |           |          | \n",
      " release_year         | pagila.year              |           |          | \n",
      " language_id          | smallint                 |           | not null | \n",
      " original_language_id | smallint                 |           |          | \n",
      " rental_duration      | smallint                 |           | not null | 3\n",
      " rental_rate          | numeric(4,2)             |           | not null | 4.99\n",
      " length               | smallint                 |           |          | \n",
      " replacement_cost     | numeric(5,2)             |           | not null | 19.99\n",
      " rating               | pagila.mpaa_rating       |           |          | 'G'::pagila.mpaa_rating\n",
      " last_update          | timestamp with time zone |           | not null | now()\n",
      " special_features     | text[]                   |           |          | \n",
      " fulltext             | tsvector                 |           | not null | \n",
      "Indexes:\n",
      "    \"film_pkey\" PRIMARY KEY, btree (film_id)\n",
      "    \"film_fulltext_idx\" gist (fulltext)\n",
      "    \"idx_fk_language_id\" btree (language_id)\n",
      "    \"idx_fk_original_language_id\" btree (original_language_id)\n",
      "    \"idx_title\" btree (title)\n",
      "Foreign-key constraints:\n",
      "    \"film_language_id_fkey\" FOREIGN KEY (language_id) REFERENCES pagila.language(language_id) ON UPDATE CASCADE ON DELETE RESTRICT\n",
      "    \"film_original_language_id_fkey\" FOREIGN KEY (original_language_id) REFERENCES pagila.language(language_id) ON UPDATE CASCADE ON DELETE RESTRICT\n",
      "Referenced by:\n",
      "    TABLE \"pagila.film_actor\" CONSTRAINT \"film_actor_film_id_fkey\" FOREIGN KEY (film_id) REFERENCES pagila.film(film_id) ON UPDATE CASCADE ON DELETE RESTRICT\n",
      "    TABLE \"pagila.film_category\" CONSTRAINT \"film_category_film_id_fkey\" FOREIGN KEY (film_id) REFERENCES pagila.film(film_id) ON UPDATE CASCADE ON DELETE RESTRICT\n",
      "    TABLE \"pagila.inventory\" CONSTRAINT \"inventory_film_id_fkey\" FOREIGN KEY (film_id) REFERENCES pagila.film(film_id) ON UPDATE CASCADE ON DELETE RESTRICT\n",
      "Triggers:\n",
      "    film_fulltext_trigger BEFORE INSERT OR UPDATE ON pagila.film FOR EACH ROW EXECUTE PROCEDURE tsvector_update_trigger('fulltext', 'pg_catalog.english', 'title', 'description')\n",
      "    last_updated BEFORE UPDATE ON pagila.film FOR EACH ROW EXECUTE PROCEDURE pagila.last_updated()\n",
      "\n"
     ]
    }
   ],
   "source": [
    "!psql -c \"\\d pagila.film\""
   ]
  },
  {
   "cell_type": "code",
   "execution_count": 10,
   "id": "lesser-volleyball",
   "metadata": {},
   "outputs": [
    {
     "name": "stdout",
     "output_type": "stream",
     "text": [
      "                                               Table \"pagila.country\"\n",
      "   Column    |           Type           | Collation | Nullable |                      Default                       \n",
      "-------------+--------------------------+-----------+----------+----------------------------------------------------\n",
      " country_id  | integer                  |           | not null | nextval('pagila.country_country_id_seq'::regclass)\n",
      " country     | text                     |           | not null | \n",
      " last_update | timestamp with time zone |           | not null | now()\n",
      "Indexes:\n",
      "    \"country_pkey\" PRIMARY KEY, btree (country_id)\n",
      "Referenced by:\n",
      "    TABLE \"pagila.city\" CONSTRAINT \"city_country_id_fkey\" FOREIGN KEY (country_id) REFERENCES pagila.country(country_id) ON UPDATE CASCADE ON DELETE RESTRICT\n",
      "Triggers:\n",
      "    last_updated BEFORE UPDATE ON pagila.country FOR EACH ROW EXECUTE PROCEDURE pagila.last_updated()\n",
      "\n"
     ]
    }
   ],
   "source": [
    "!psql -c \"\\d pagila.country\""
   ]
  },
  {
   "cell_type": "code",
   "execution_count": 11,
   "id": "ambient-mount",
   "metadata": {},
   "outputs": [
    {
     "name": "stdout",
     "output_type": "stream",
     "text": [
      "                                               Table \"pagila.category\"\n",
      "   Column    |           Type           | Collation | Nullable |                       Default                        \n",
      "-------------+--------------------------+-----------+----------+------------------------------------------------------\n",
      " category_id | integer                  |           | not null | nextval('pagila.category_category_id_seq'::regclass)\n",
      " name        | text                     |           | not null | \n",
      " last_update | timestamp with time zone |           | not null | now()\n",
      "Indexes:\n",
      "    \"category_pkey\" PRIMARY KEY, btree (category_id)\n",
      "Referenced by:\n",
      "    TABLE \"pagila.film_category\" CONSTRAINT \"film_category_category_id_fkey\" FOREIGN KEY (category_id) REFERENCES pagila.category(category_id) ON UPDATE CASCADE ON DELETE RESTRICT\n",
      "Triggers:\n",
      "    last_updated BEFORE UPDATE ON pagila.category FOR EACH ROW EXECUTE PROCEDURE pagila.last_updated()\n",
      "\n"
     ]
    }
   ],
   "source": [
    "!psql -c \"\\d pagila.category\""
   ]
  },
  {
   "cell_type": "code",
   "execution_count": 12,
   "id": "increasing-stocks",
   "metadata": {},
   "outputs": [
    {
     "name": "stdout",
     "output_type": "stream",
     "text": [
      "                                             Table \"pagila.city\"\n",
      "   Column    |           Type           | Collation | Nullable |                   Default                    \n",
      "-------------+--------------------------+-----------+----------+----------------------------------------------\n",
      " city_id     | integer                  |           | not null | nextval('pagila.city_city_id_seq'::regclass)\n",
      " city        | text                     |           | not null | \n",
      " country_id  | smallint                 |           | not null | \n",
      " last_update | timestamp with time zone |           | not null | now()\n",
      "Indexes:\n",
      "    \"city_pkey\" PRIMARY KEY, btree (city_id)\n",
      "    \"idx_fk_country_id\" btree (country_id)\n",
      "Foreign-key constraints:\n",
      "    \"city_country_id_fkey\" FOREIGN KEY (country_id) REFERENCES pagila.country(country_id) ON UPDATE CASCADE ON DELETE RESTRICT\n",
      "Referenced by:\n",
      "    TABLE \"pagila.address\" CONSTRAINT \"address_city_id_fkey\" FOREIGN KEY (city_id) REFERENCES pagila.city(city_id) ON UPDATE CASCADE ON DELETE RESTRICT\n",
      "Triggers:\n",
      "    last_updated BEFORE UPDATE ON pagila.city FOR EACH ROW EXECUTE PROCEDURE pagila.last_updated()\n",
      "\n"
     ]
    }
   ],
   "source": [
    "!psql -c \"\\d pagila.city\""
   ]
  },
  {
   "cell_type": "code",
   "execution_count": 13,
   "id": "human-auction",
   "metadata": {},
   "outputs": [
    {
     "name": "stdout",
     "output_type": "stream",
     "text": [
      "                                               Table \"pagila.address\"\n",
      "   Column    |           Type           | Collation | Nullable |                      Default                       \n",
      "-------------+--------------------------+-----------+----------+----------------------------------------------------\n",
      " address_id  | integer                  |           | not null | nextval('pagila.address_address_id_seq'::regclass)\n",
      " address     | text                     |           | not null | \n",
      " address2    | text                     |           |          | \n",
      " district    | text                     |           | not null | \n",
      " city_id     | smallint                 |           | not null | \n",
      " postal_code | text                     |           |          | \n",
      " phone       | text                     |           | not null | \n",
      " last_update | timestamp with time zone |           | not null | now()\n",
      "Indexes:\n",
      "    \"address_pkey\" PRIMARY KEY, btree (address_id)\n",
      "    \"idx_fk_city_id\" btree (city_id)\n",
      "Foreign-key constraints:\n",
      "    \"address_city_id_fkey\" FOREIGN KEY (city_id) REFERENCES pagila.city(city_id) ON UPDATE CASCADE ON DELETE RESTRICT\n",
      "Referenced by:\n",
      "    TABLE \"pagila.customer\" CONSTRAINT \"customer_address_id_fkey\" FOREIGN KEY (address_id) REFERENCES pagila.address(address_id) ON UPDATE CASCADE ON DELETE RESTRICT\n",
      "    TABLE \"pagila.staff\" CONSTRAINT \"staff_address_id_fkey\" FOREIGN KEY (address_id) REFERENCES pagila.address(address_id) ON UPDATE CASCADE ON DELETE RESTRICT\n",
      "    TABLE \"pagila.store\" CONSTRAINT \"store_address_id_fkey\" FOREIGN KEY (address_id) REFERENCES pagila.address(address_id) ON UPDATE CASCADE ON DELETE RESTRICT\n",
      "Triggers:\n",
      "    last_updated BEFORE UPDATE ON pagila.address FOR EACH ROW EXECUTE PROCEDURE pagila.last_updated()\n",
      "\n"
     ]
    }
   ],
   "source": [
    " !psql -c \"\\d pagila.address\""
   ]
  },
  {
   "cell_type": "code",
   "execution_count": 14,
   "id": "physical-wallpaper",
   "metadata": {},
   "outputs": [
    {
     "name": "stdout",
     "output_type": "stream",
     "text": [
      "                                                Table \"pagila.customer\"\n",
      "   Column    |           Type           | Collation | Nullable |                        Default                        \n",
      "-------------+--------------------------+-----------+----------+-------------------------------------------------------\n",
      " customer_id | integer                  |           | not null | nextval('pagila.customer_customer_id_seq1'::regclass)\n",
      " store_id    | smallint                 |           | not null | \n",
      " first_name  | text                     |           | not null | \n",
      " last_name   | text                     |           | not null | \n",
      " email       | text                     |           |          | \n",
      " address_id  | smallint                 |           | not null | \n",
      " activebool  | boolean                  |           | not null | true\n",
      " create_date | date                     |           | not null | ('now'::text)::date\n",
      " last_update | timestamp with time zone |           |          | now()\n",
      " active      | integer                  |           |          | \n",
      "Indexes:\n",
      "    \"customer_pkey\" PRIMARY KEY, btree (customer_id)\n",
      "    \"idx_fk_address_id\" btree (address_id)\n",
      "    \"idx_fk_store_id\" btree (store_id)\n",
      "    \"idx_last_name\" btree (last_name)\n",
      "Foreign-key constraints:\n",
      "    \"customer_address_id_fkey\" FOREIGN KEY (address_id) REFERENCES pagila.address(address_id) ON UPDATE CASCADE ON DELETE RESTRICT\n",
      "    \"customer_store_id_fkey\" FOREIGN KEY (store_id) REFERENCES pagila.store(store_id) ON UPDATE CASCADE ON DELETE RESTRICT\n",
      "Referenced by:\n",
      "    TABLE \"pagila.rental\" CONSTRAINT \"rental_customer_id_fkey\" FOREIGN KEY (customer_id) REFERENCES pagila.customer(customer_id) ON UPDATE CASCADE ON DELETE RESTRICT\n",
      "Triggers:\n",
      "    last_updated BEFORE UPDATE ON pagila.customer FOR EACH ROW EXECUTE PROCEDURE pagila.last_updated()\n",
      "\n"
     ]
    }
   ],
   "source": [
    "!psql -c \"\\d pagila.customer\""
   ]
  },
  {
   "cell_type": "code",
   "execution_count": 15,
   "id": "essential-celebration",
   "metadata": {},
   "outputs": [
    {
     "name": "stdout",
     "output_type": "stream",
     "text": [
      "                                               Table \"pagila.language\"\n",
      "   Column    |           Type           | Collation | Nullable |                       Default                        \n",
      "-------------+--------------------------+-----------+----------+------------------------------------------------------\n",
      " language_id | integer                  |           | not null | nextval('pagila.language_language_id_seq'::regclass)\n",
      " name        | character(20)            |           | not null | \n",
      " last_update | timestamp with time zone |           | not null | now()\n",
      "Indexes:\n",
      "    \"language_pkey\" PRIMARY KEY, btree (language_id)\n",
      "Referenced by:\n",
      "    TABLE \"pagila.film\" CONSTRAINT \"film_language_id_fkey\" FOREIGN KEY (language_id) REFERENCES pagila.language(language_id) ON UPDATE CASCADE ON DELETE RESTRICT\n",
      "    TABLE \"pagila.film\" CONSTRAINT \"film_original_language_id_fkey\" FOREIGN KEY (original_language_id) REFERENCES pagila.language(language_id) ON UPDATE CASCADE ON DELETE RESTRICT\n",
      "Triggers:\n",
      "    last_updated BEFORE UPDATE ON pagila.language FOR EACH ROW EXECUTE PROCEDURE pagila.last_updated()\n",
      "\n"
     ]
    }
   ],
   "source": [
    "!psql -c \"\\d pagila.language\""
   ]
  },
  {
   "cell_type": "code",
   "execution_count": 16,
   "id": "clear-homework",
   "metadata": {},
   "outputs": [
    {
     "name": "stdout",
     "output_type": "stream",
     "text": [
      "                        Table \"pagila.film_actor\"\n",
      "   Column    |           Type           | Collation | Nullable | Default \n",
      "-------------+--------------------------+-----------+----------+---------\n",
      " actor_id    | smallint                 |           | not null | \n",
      " film_id     | smallint                 |           | not null | \n",
      " last_update | timestamp with time zone |           | not null | now()\n",
      "Indexes:\n",
      "    \"film_actor_pkey\" PRIMARY KEY, btree (actor_id, film_id)\n",
      "    \"idx_fk_film_id\" btree (film_id)\n",
      "Foreign-key constraints:\n",
      "    \"film_actor_actor_id_fkey\" FOREIGN KEY (actor_id) REFERENCES pagila.actor(actor_id) ON UPDATE CASCADE ON DELETE RESTRICT\n",
      "    \"film_actor_film_id_fkey\" FOREIGN KEY (film_id) REFERENCES pagila.film(film_id) ON UPDATE CASCADE ON DELETE RESTRICT\n",
      "Triggers:\n",
      "    last_updated BEFORE UPDATE ON pagila.film_actor FOR EACH ROW EXECUTE PROCEDURE pagila.last_updated()\n",
      "\n"
     ]
    }
   ],
   "source": [
    "!psql -c \"\\d pagila.film_actor\""
   ]
  },
  {
   "cell_type": "code",
   "execution_count": 17,
   "id": "charged-accountability",
   "metadata": {},
   "outputs": [
    {
     "name": "stdout",
     "output_type": "stream",
     "text": [
      "                      Table \"pagila.film_category\"\n",
      "   Column    |           Type           | Collation | Nullable | Default \n",
      "-------------+--------------------------+-----------+----------+---------\n",
      " film_id     | smallint                 |           | not null | \n",
      " category_id | smallint                 |           | not null | \n",
      " last_update | timestamp with time zone |           | not null | now()\n",
      "Indexes:\n",
      "    \"film_category_pkey\" PRIMARY KEY, btree (film_id, category_id)\n",
      "Foreign-key constraints:\n",
      "    \"film_category_category_id_fkey\" FOREIGN KEY (category_id) REFERENCES pagila.category(category_id) ON UPDATE CASCADE ON DELETE RESTRICT\n",
      "    \"film_category_film_id_fkey\" FOREIGN KEY (film_id) REFERENCES pagila.film(film_id) ON UPDATE CASCADE ON DELETE RESTRICT\n",
      "Triggers:\n",
      "    last_updated BEFORE UPDATE ON pagila.film_category FOR EACH ROW EXECUTE PROCEDURE pagila.last_updated()\n",
      "\n"
     ]
    }
   ],
   "source": [
    "!psql -c \"\\d pagila.film_category\""
   ]
  },
  {
   "cell_type": "code",
   "execution_count": 18,
   "id": "casual-change",
   "metadata": {},
   "outputs": [
    {
     "name": "stdout",
     "output_type": "stream",
     "text": [
      "                                                Table \"pagila.inventory\"\n",
      "    Column    |           Type           | Collation | Nullable |                        Default                         \n",
      "--------------+--------------------------+-----------+----------+--------------------------------------------------------\n",
      " inventory_id | integer                  |           | not null | nextval('pagila.inventory_inventory_id_seq'::regclass)\n",
      " film_id      | smallint                 |           | not null | \n",
      " store_id     | smallint                 |           | not null | \n",
      " last_update  | timestamp with time zone |           | not null | now()\n",
      "Indexes:\n",
      "    \"inventory_pkey\" PRIMARY KEY, btree (inventory_id)\n",
      "    \"idx_store_id_film_id\" btree (store_id, film_id)\n",
      "Foreign-key constraints:\n",
      "    \"inventory_film_id_fkey\" FOREIGN KEY (film_id) REFERENCES pagila.film(film_id) ON UPDATE CASCADE ON DELETE RESTRICT\n",
      "    \"inventory_store_id_fkey\" FOREIGN KEY (store_id) REFERENCES pagila.store(store_id) ON UPDATE CASCADE ON DELETE RESTRICT\n",
      "Referenced by:\n",
      "    TABLE \"pagila.rental\" CONSTRAINT \"rental_inventory_id_fkey\" FOREIGN KEY (inventory_id) REFERENCES pagila.inventory(inventory_id) ON UPDATE CASCADE ON DELETE RESTRICT\n",
      "Triggers:\n",
      "    last_updated BEFORE UPDATE ON pagila.inventory FOR EACH ROW EXECUTE PROCEDURE pagila.last_updated()\n",
      "\n"
     ]
    }
   ],
   "source": [
    "!psql -c \"\\d pagila.inventory\""
   ]
  },
  {
   "cell_type": "code",
   "execution_count": 19,
   "id": "durable-banner",
   "metadata": {},
   "outputs": [
    {
     "name": "stdout",
     "output_type": "stream",
     "text": [
      "                                              Table \"pagila.staff\"\n",
      "   Column    |           Type           | Collation | Nullable |                    Default                     \n",
      "-------------+--------------------------+-----------+----------+------------------------------------------------\n",
      " staff_id    | integer                  |           | not null | nextval('pagila.staff_staff_id_seq'::regclass)\n",
      " first_name  | text                     |           | not null | \n",
      " last_name   | text                     |           | not null | \n",
      " address_id  | smallint                 |           | not null | \n",
      " email       | text                     |           |          | \n",
      " store_id    | smallint                 |           | not null | \n",
      " active      | boolean                  |           | not null | true\n",
      " username    | text                     |           | not null | \n",
      " password    | text                     |           |          | \n",
      " last_update | timestamp with time zone |           | not null | now()\n",
      " picture     | bytea                    |           |          | \n",
      "Indexes:\n",
      "    \"staff_pkey\" PRIMARY KEY, btree (staff_id)\n",
      "Foreign-key constraints:\n",
      "    \"staff_address_id_fkey\" FOREIGN KEY (address_id) REFERENCES pagila.address(address_id) ON UPDATE CASCADE ON DELETE RESTRICT\n",
      "    \"staff_store_id_fkey\" FOREIGN KEY (store_id) REFERENCES pagila.store(store_id)\n",
      "Referenced by:\n",
      "    TABLE \"pagila.rental\" CONSTRAINT \"rental_staff_id_fkey\" FOREIGN KEY (staff_id) REFERENCES pagila.staff(staff_id) ON UPDATE CASCADE ON DELETE RESTRICT\n",
      "Triggers:\n",
      "    last_updated BEFORE UPDATE ON pagila.staff FOR EACH ROW EXECUTE PROCEDURE pagila.last_updated()\n",
      "\n"
     ]
    }
   ],
   "source": [
    "!psql -c \"\\d pagila.staff\""
   ]
  },
  {
   "cell_type": "code",
   "execution_count": 20,
   "id": "nasty-disposition",
   "metadata": {},
   "outputs": [
    {
     "name": "stdout",
     "output_type": "stream",
     "text": [
      "                                               Table \"pagila.payment\"\n",
      "    Column    |           Type           | Collation | Nullable |                      Default                       \n",
      "--------------+--------------------------+-----------+----------+----------------------------------------------------\n",
      " payment_id   | integer                  |           | not null | nextval('pagila.payment_payment_id_seq'::regclass)\n",
      " customer_id  | smallint                 |           | not null | \n",
      " staff_id     | smallint                 |           | not null | \n",
      " rental_id    | integer                  |           | not null | \n",
      " amount       | numeric(5,2)             |           | not null | \n",
      " payment_date | timestamp with time zone |           | not null | \n",
      "Indexes:\n",
      "    \"idx_fk_customer_id\" btree (customer_id)\n",
      "    \"idx_fk_staff_id\" btree (staff_id)\n",
      "\n"
     ]
    }
   ],
   "source": [
    "!psql -c \"\\d pagila.payment\" "
   ]
  },
  {
   "cell_type": "code",
   "execution_count": 21,
   "id": "noticed-valley",
   "metadata": {},
   "outputs": [
    {
     "name": "stdout",
     "output_type": "stream",
     "text": [
      "                                               Table \"pagila.rental\"\n",
      "    Column    |           Type           | Collation | Nullable |                     Default                      \n",
      "--------------+--------------------------+-----------+----------+--------------------------------------------------\n",
      " rental_id    | integer                  |           | not null | nextval('pagila.rental_rental_id_seq'::regclass)\n",
      " rental_date  | timestamp with time zone |           | not null | \n",
      " inventory_id | integer                  |           | not null | \n",
      " customer_id  | smallint                 |           | not null | \n",
      " return_date  | timestamp with time zone |           |          | \n",
      " staff_id     | smallint                 |           | not null | \n",
      " last_update  | timestamp with time zone |           | not null | now()\n",
      "Indexes:\n",
      "    \"rental_pkey\" PRIMARY KEY, btree (rental_id)\n",
      "    \"idx_unq_rental_rental_date_inventory_id_customer_id\" UNIQUE, btree (rental_date, inventory_id, customer_id)\n",
      "    \"idx_fk_inventory_id\" btree (inventory_id)\n",
      "Foreign-key constraints:\n",
      "    \"rental_customer_id_fkey\" FOREIGN KEY (customer_id) REFERENCES pagila.customer(customer_id) ON UPDATE CASCADE ON DELETE RESTRICT\n",
      "    \"rental_inventory_id_fkey\" FOREIGN KEY (inventory_id) REFERENCES pagila.inventory(inventory_id) ON UPDATE CASCADE ON DELETE RESTRICT\n",
      "    \"rental_staff_id_fkey\" FOREIGN KEY (staff_id) REFERENCES pagila.staff(staff_id) ON UPDATE CASCADE ON DELETE RESTRICT\n",
      "Triggers:\n",
      "    last_updated BEFORE UPDATE ON pagila.rental FOR EACH ROW EXECUTE PROCEDURE pagila.last_updated()\n",
      "\n"
     ]
    }
   ],
   "source": [
    "!psql -c \"\\d pagila.rental\""
   ]
  },
  {
   "cell_type": "code",
   "execution_count": 22,
   "id": "resistant-mountain",
   "metadata": {},
   "outputs": [
    {
     "name": "stdout",
     "output_type": "stream",
     "text": [
      "                                                Table \"pagila.store\"\n",
      "      Column      |           Type           | Collation | Nullable |                    Default                     \n",
      "------------------+--------------------------+-----------+----------+------------------------------------------------\n",
      " store_id         | integer                  |           | not null | nextval('pagila.store_store_id_seq'::regclass)\n",
      " manager_staff_id | smallint                 |           | not null | \n",
      " address_id       | smallint                 |           | not null | \n",
      " last_update      | timestamp with time zone |           | not null | now()\n",
      "Indexes:\n",
      "    \"store_pkey\" PRIMARY KEY, btree (store_id)\n",
      "    \"idx_unq_manager_staff_id\" UNIQUE, btree (manager_staff_id)\n",
      "Foreign-key constraints:\n",
      "    \"store_address_id_fkey\" FOREIGN KEY (address_id) REFERENCES pagila.address(address_id) ON UPDATE CASCADE ON DELETE RESTRICT\n",
      "Referenced by:\n",
      "    TABLE \"pagila.customer\" CONSTRAINT \"customer_store_id_fkey\" FOREIGN KEY (store_id) REFERENCES pagila.store(store_id) ON UPDATE CASCADE ON DELETE RESTRICT\n",
      "    TABLE \"pagila.inventory\" CONSTRAINT \"inventory_store_id_fkey\" FOREIGN KEY (store_id) REFERENCES pagila.store(store_id) ON UPDATE CASCADE ON DELETE RESTRICT\n",
      "    TABLE \"pagila.staff\" CONSTRAINT \"staff_store_id_fkey\" FOREIGN KEY (store_id) REFERENCES pagila.store(store_id)\n",
      "Triggers:\n",
      "    last_updated BEFORE UPDATE ON pagila.store FOR EACH ROW EXECUTE PROCEDURE pagila.last_updated()\n",
      "\n"
     ]
    }
   ],
   "source": [
    "!psql -c \"\\d pagila.store\""
   ]
  },
  {
   "cell_type": "markdown",
   "id": "lightweight-closer",
   "metadata": {},
   "source": [
    "### 3 queries that use an INNER JOIN between two or more tables "
   ]
  },
  {
   "cell_type": "markdown",
   "id": "institutional-museum",
   "metadata": {},
   "source": [
    "### Joining the store table with the rental table by inner join, ordering by store id where store id is greater than or equal to 1"
   ]
  },
  {
   "cell_type": "code",
   "execution_count": 98,
   "id": "disciplinary-consolidation",
   "metadata": {},
   "outputs": [
    {
     "name": "stdout",
     "output_type": "stream",
     "text": [
      " store_id | manager_staff_id | address_id |      last_update       | rental_id |      rental_date       | inventory_id | customer_id |      return_date       | staff_id |      last_update       \n",
      "----------+------------------+------------+------------------------+-----------+------------------------+--------------+-------------+------------------------+----------+------------------------\n",
      "        1 |                1 |          1 | 2017-02-15 09:57:12+00 |         1 | 2005-05-24 22:53:30+00 |          367 |         130 | 2005-05-26 22:04:30+00 |        1 | 2017-02-15 21:30:53+00\n",
      "        2 |                2 |          2 | 2017-02-15 09:57:12+00 |         2 | 2005-05-24 22:54:33+00 |         1525 |         459 | 2005-05-28 19:40:33+00 |        1 | 2017-02-16 02:30:53+00\n",
      "(2 rows)\n",
      "\n"
     ]
    }
   ],
   "source": [
    "!psql -c \"select * from pagila.store INNER JOIN pagila.rental ON store.store_id = rental.rental_id WHERE store_id >= 1 ORDER BY store_id;\""
   ]
  },
  {
   "cell_type": "markdown",
   "id": "secondary-language",
   "metadata": {},
   "source": [
    "### Joining actor table with film table by inner join, ordering by actor's first name where the title has a letter T in it\n"
   ]
  },
  {
   "cell_type": "code",
   "execution_count": 101,
   "id": "forward-channel",
   "metadata": {},
   "outputs": [
    {
     "name": "stdout",
     "output_type": "stream",
     "text": [
      " actor_id | first_name |  last_name  |      last_update       | film_id |         title         |                                                       description                                                       | release_year | language_id | original_language_id | rental_duration | rental_rate | length | replacement_cost | rating |          last_update          |                special_features                 |                                                                               fulltext                                                                               \n",
      "----------+------------+-------------+------------------------+---------+-----------------------+-------------------------------------------------------------------------------------------------------------------------+--------------+-------------+----------------------+-----------------+-------------+--------+------------------+--------+-------------------------------+-------------------------------------------------+----------------------------------------------------------------------------------------------------------------------------------------------------------------------\n",
      "      132 | ADAM       | HOPPER      | 2017-02-15 09:34:33+00 |     132 | CHAINSAW UPTOWN       | A Beautiful Documentary of a Boy And a Robot who must Discover a Squirrel in Australia                                  |         2006 |           1 |                      |               6 |        0.99 |    114 |            25.99 | PG     | 2017-09-10 17:46:03.905795+00 | {\"Deleted Scenes\",\"Behind the Scenes\"}          | 'australia':18 'beauti':4 'boy':8 'chainsaw':1 'discov':14 'documentari':5 'must':13 'robot':11 'squirrel':16 'uptown':2\n",
      "      146 | ALBERT     | JOHANSSON   | 2017-02-15 09:34:33+00 |     146 | CHITTY LOCK           | A Boring Epistle of a Boat And a Database Administrator who must Kill a Sumo Wrestler in The First Manned Space Station |         2006 |           1 |                      |               6 |        2.99 |    107 |            24.99 | G      | 2017-09-10 17:46:03.905795+00 | {Commentaries}                                  | 'administr':12 'boat':8 'bore':4 'chitti':1 'databas':11 'epistl':5 'first':21 'kill':15 'lock':2 'man':22 'must':14 'space':23 'station':24 'sumo':17 'wrestler':18\n",
      "       29 | ALEC       | WAYNE       | 2017-02-15 09:34:33+00 |      29 | ANTITRUST TOMATOES    | A Fateful Yarn of a Womanizer And a Feminist who must Succumb a Database Administrator in Ancient India                 |         2006 |           1 |                      |               5 |        2.99 |    168 |            11.99 | NC-17  | 2017-09-10 17:46:03.905795+00 | {Trailers,Commentaries,\"Deleted Scenes\"}        | 'administr':17 'ancient':19 'antitrust':1 'databas':16 'fate':4 'feminist':11 'india':20 'must':13 'succumb':14 'tomato':2 'woman':8 'yarn':5\n",
      "      144 | ANGELA     | WITHERSPOON | 2017-02-15 09:34:33+00 |     144 | CHINATOWN GLADIATOR   | A Brilliant Panorama of a Technical Writer And a Lumberjack who must Escape a Butler in Ancient India                   |         2006 |           1 |                      |               7 |        4.99 |     61 |            24.99 | PG     | 2017-09-10 17:46:03.905795+00 | {Trailers,Commentaries,\"Deleted Scenes\"}        | 'ancient':19 'brilliant':4 'butler':17 'chinatown':1 'escap':15 'gladiat':2 'india':20 'lumberjack':12 'must':14 'panorama':5 'technic':8 'writer':9\n",
      "      196 | BELA       | WALKEN      | 2017-02-15 09:34:33+00 |     196 | CRUELTY UNFORGIVEN    | A Brilliant Tale of a Car And a Moose who must Battle a Dentist in Nigeria                                              |         2006 |           1 |                      |               7 |        0.99 |     69 |            29.99 | G      | 2017-09-10 17:46:03.905795+00 | {\"Deleted Scenes\",\"Behind the Scenes\"}          | 'battl':14 'brilliant':4 'car':8 'cruelti':1 'dentist':16 'moos':11 'must':13 'nigeria':18 'tale':5 'unforgiven':2\n",
      "       83 | BEN        | WILLIS      | 2017-02-15 09:34:33+00 |      83 | BLUES INSTINCT        | A Insightful Documentary of a Boat And a Composer who must Meet a Forensic Psychologist in An Abandoned Fun House       |         2006 |           1 |                      |               5 |        2.99 |     50 |            18.99 | G      | 2017-09-10 17:46:03.905795+00 | {Trailers,\"Deleted Scenes\",\"Behind the Scenes\"} | 'abandon':20 'blue':1 'boat':8 'compos':11 'documentari':5 'forens':16 'fun':21 'hous':22 'insight':4 'instinct':2 'meet':14 'must':13 'psychologist':17\n",
      "      152 | BEN        | HARRIS      | 2017-02-15 09:34:33+00 |     152 | CIRCUS YOUTH          | A Thoughtful Drama of a Pastry Chef And a Dentist who must Pursue a Girl in A Baloon                                    |         2006 |           1 |                      |               5 |        2.99 |     90 |            13.99 | PG-13  | 2017-09-10 17:46:03.905795+00 | {Trailers,\"Deleted Scenes\",\"Behind the Scenes\"} | 'baloon':20 'chef':9 'circus':1 'dentist':12 'drama':5 'girl':17 'must':14 'pastri':8 'pursu':15 'thought':4 'youth':2\n",
      "        6 | BETTE      | NICHOLSON   | 2017-02-15 09:34:33+00 |       6 | AGENT TRUMAN          | A Intrepid Panorama of a Robot And a Boy who must Escape a Sumo Wrestler in Ancient China                               |         2006 |           1 |                      |               3 |        2.99 |    169 |            17.99 | PG     | 2017-09-10 17:46:03.905795+00 | {\"Deleted Scenes\"}                              | 'agent':1 'ancient':19 'boy':11 'china':20 'escap':14 'intrepid':4 'must':13 'panorama':5 'robot':8 'sumo':16 'truman':2 'wrestler':17\n",
      "      193 | BURT       | TEMPLE      | 2017-02-15 09:34:33+00 |     193 | CROSSROADS CASUALTIES | A Intrepid Documentary of a Sumo Wrestler And a Astronaut who must Battle a Composer in The Outback                     |         2006 |           1 |                      |               5 |        2.99 |    153 |            20.99 | G      | 2017-09-10 17:46:03.905795+00 | {Trailers,Commentaries,\"Behind the Scenes\"}     | 'astronaut':12 'battl':15 'casualti':2 'compos':17 'crossroad':1 'documentari':5 'intrepid':4 'must':14 'outback':20 'sumo':8 'wrestler':9\n",
      "       36 | BURT       | DUKAKIS     | 2017-02-15 09:34:33+00 |      36 | ARGONAUTS TOWN        | A Emotional Epistle of a Forensic Psychologist And a Butler who must Challenge a Waitress in An Abandoned Mine Shaft    |         2006 |           1 |                      |               7 |        0.99 |    127 |            12.99 | PG-13  | 2017-09-10 17:46:03.905795+00 | {Trailers,Commentaries}                         | 'abandon':20 'argonaut':1 'butler':12 'challeng':15 'emot':4 'epistl':5 'forens':8 'mine':21 'must':14 'psychologist':9 'shaft':22 'town':2 'waitress':17\n",
      "(10 rows)\n",
      "\n"
     ]
    }
   ],
   "source": [
    "!psql -c \"select * from pagila.actor INNER JOIN pagila.film ON actor_id = film_id where film.title like '%T%' order by actor.first_name limit 10;\""
   ]
  },
  {
   "cell_type": "markdown",
   "id": "lined-anniversary",
   "metadata": {},
   "source": [
    "### Joining Category Table to Film Table by inner join, ordering by film ID number where Film ID is greater than 3"
   ]
  },
  {
   "cell_type": "code",
   "execution_count": 97,
   "id": "polish-ivory",
   "metadata": {},
   "outputs": [
    {
     "name": "stdout",
     "output_type": "stream",
     "text": [
      " category_id |    name     |      last_update       | film_id |      title       |                                                      description                                                      | release_year | language_id | original_language_id | rental_duration | rental_rate | length | replacement_cost | rating |          last_update          |          special_features          |                                                                                    fulltext                                                                                    \n",
      "-------------+-------------+------------------------+---------+------------------+-----------------------------------------------------------------------------------------------------------------------+--------------+-------------+----------------------+-----------------+-------------+--------+------------------+--------+-------------------------------+------------------------------------+--------------------------------------------------------------------------------------------------------------------------------------------------------------------------------\n",
      "           4 | Classics    | 2017-02-15 09:46:27+00 |       4 | AFFAIR PREJUDICE | A Fanciful Documentary of a Frisbee And a Lumberjack who must Chase a Monkey in A Shark Tank                          |         2006 |           1 |                      |               5 |        2.99 |    117 |            26.99 | G      | 2017-09-10 17:46:03.905795+00 | {Commentaries,\"Behind the Scenes\"} | 'affair':1 'chase':14 'documentari':5 'fanci':4 'frisbe':8 'lumberjack':11 'monkey':16 'must':13 'prejudic':2 'shark':19 'tank':20\n",
      "           5 | Comedy      | 2017-02-15 09:46:27+00 |       5 | AFRICAN EGG      | A Fast-Paced Documentary of a Pastry Chef And a Dentist who must Pursue a Forensic Psychologist in The Gulf of Mexico |         2006 |           1 |                      |               6 |        2.99 |    130 |            22.99 | G      | 2017-09-10 17:46:03.905795+00 | {\"Deleted Scenes\"}                 | 'african':1 'chef':11 'dentist':14 'documentari':7 'egg':2 'fast':5 'fast-pac':4 'forens':19 'gulf':23 'mexico':25 'must':16 'pace':6 'pastri':10 'psychologist':20 'pursu':17\n",
      "           6 | Documentary | 2017-02-15 09:46:27+00 |       6 | AGENT TRUMAN     | A Intrepid Panorama of a Robot And a Boy who must Escape a Sumo Wrestler in Ancient China                             |         2006 |           1 |                      |               3 |        2.99 |    169 |            17.99 | PG     | 2017-09-10 17:46:03.905795+00 | {\"Deleted Scenes\"}                 | 'agent':1 'ancient':19 'boy':11 'china':20 'escap':14 'intrepid':4 'must':13 'panorama':5 'robot':8 'sumo':16 'truman':2 'wrestler':17\n",
      "           7 | Drama       | 2017-02-15 09:46:27+00 |       7 | AIRPLANE SIERRA  | A Touching Saga of a Hunter And a Butler who must Discover a Butler in A Jet Boat                                     |         2006 |           1 |                      |               6 |        4.99 |     62 |            28.99 | PG-13  | 2017-09-10 17:46:03.905795+00 | {Trailers,\"Deleted Scenes\"}        | 'airplan':1 'boat':20 'butler':11,16 'discov':14 'hunter':8 'jet':19 'must':13 'saga':5 'sierra':2 'touch':4\n",
      "           8 | Family      | 2017-02-15 09:46:27+00 |       8 | AIRPORT POLLOCK  | A Epic Tale of a Moose And a Girl who must Confront a Monkey in Ancient India                                         |         2006 |           1 |                      |               6 |        4.99 |     54 |            15.99 | R      | 2017-09-10 17:46:03.905795+00 | {Trailers}                         | 'airport':1 'ancient':18 'confront':14 'epic':4 'girl':11 'india':19 'monkey':16 'moos':8 'must':13 'pollock':2 'tale':5\n",
      "(5 rows)\n",
      "\n"
     ]
    }
   ],
   "source": [
    "!psql -c \"select * from pagila.category inner join pagila.film ON category.category_id = film.film_id where film_id > 3 order by film_id limit 5;\""
   ]
  },
  {
   "cell_type": "markdown",
   "id": "described-colleague",
   "metadata": {},
   "source": [
    "### 3 queries that use an OUTER JOIN between two or more tables"
   ]
  },
  {
   "cell_type": "markdown",
   "id": "distinct-titanium",
   "metadata": {},
   "source": [
    "### Joining the Rental table to the Customer table by left outer join, ordered by rental_id where rental.customer_id equals to 7"
   ]
  },
  {
   "cell_type": "code",
   "execution_count": 15,
   "id": "verbal-building",
   "metadata": {},
   "outputs": [
    {
     "name": "stdout",
     "output_type": "stream",
     "text": [
      " rental_id |      rental_date       | inventory_id | customer_id |      return_date       | staff_id |      last_update       | customer_id | store_id | first_name | last_name |              email              | address_id | activebool | create_date |      last_update       | active \n",
      "-----------+------------------------+--------------+-------------+------------------------+----------+------------------------+-------------+----------+------------+-----------+---------------------------------+------------+------------+-------------+------------------------+--------\n",
      "        46 | 2005-05-25 06:04:08+00 |         3318 |           7 | 2005-06-02 08:18:08+00 |        2 | 2017-02-16 02:30:53+00 |           7 |        1 | MARIA      | MILLER    | MARIA.MILLER@sakilacustomer.org |         11 | t          | 2017-02-14  | 2017-02-15 09:57:20+00 |      1\n",
      "       117 | 2005-05-25 19:30:46+00 |         4278 |           7 | 2005-05-31 23:59:46+00 |        2 | 2017-02-16 02:30:53+00 |           7 |        1 | MARIA      | MILLER    | MARIA.MILLER@sakilacustomer.org |         11 | t          | 2017-02-14  | 2017-02-15 09:57:20+00 |      1\n",
      "       748 | 2005-05-29 09:27:00+00 |         2803 |           7 | 2005-06-03 04:25:00+00 |        1 | 2017-02-16 02:30:53+00 |           7 |        1 | MARIA      | MILLER    | MARIA.MILLER@sakilacustomer.org |         11 | t          | 2017-02-14  | 2017-02-15 09:57:20+00 |      1\n",
      "       975 | 2005-05-30 21:07:15+00 |         3109 |           7 | 2005-06-03 01:48:15+00 |        2 | 2017-02-16 02:30:53+00 |           7 |        1 | MARIA      | MILLER    | MARIA.MILLER@sakilacustomer.org |         11 | t          | 2017-02-14  | 2017-02-15 09:57:20+00 |      1\n",
      "      1063 | 2005-05-31 08:44:29+00 |         2484 |           7 | 2005-06-09 08:00:29+00 |        1 | 2017-02-16 02:30:53+00 |           7 |        1 | MARIA      | MILLER    | MARIA.MILLER@sakilacustomer.org |         11 | t          | 2017-02-14  | 2017-02-15 09:57:20+00 |      1\n",
      "      1810 | 2005-06-16 21:06:00+00 |         2368 |           7 | 2005-06-21 21:24:00+00 |        1 | 2017-02-16 02:30:53+00 |           7 |        1 | MARIA      | MILLER    | MARIA.MILLER@sakilacustomer.org |         11 | t          | 2017-02-14  | 2017-02-15 09:57:20+00 |      1\n",
      "      2250 | 2005-06-18 05:03:36+00 |         4042 |           7 | 2005-06-22 02:25:36+00 |        2 | 2017-02-16 02:30:53+00 |           7 |        1 | MARIA      | MILLER    | MARIA.MILLER@sakilacustomer.org |         11 | t          | 2017-02-14  | 2017-02-15 09:57:20+00 |      1\n",
      "      2709 | 2005-06-19 14:00:26+00 |         2877 |           7 | 2005-06-23 14:56:26+00 |        2 | 2017-02-16 02:30:53+00 |           7 |        1 | MARIA      | MILLER    | MARIA.MILLER@sakilacustomer.org |         11 | t          | 2017-02-14  | 2017-02-15 09:57:20+00 |      1\n",
      "      2888 | 2005-06-20 01:50:56+00 |          468 |           7 | 2005-06-22 05:05:56+00 |        2 | 2017-02-16 02:30:53+00 |           7 |        1 | MARIA      | MILLER    | MARIA.MILLER@sakilacustomer.org |         11 | t          | 2017-02-14  | 2017-02-15 09:57:20+00 |      1\n",
      "      3007 | 2005-06-20 10:11:53+00 |         1950 |           7 | 2005-06-25 04:51:53+00 |        2 | 2017-02-16 02:30:53+00 |           7 |        1 | MARIA      | MILLER    | MARIA.MILLER@sakilacustomer.org |         11 | t          | 2017-02-14  | 2017-02-15 09:57:20+00 |      1\n",
      "(10 rows)\n",
      "\n"
     ]
    }
   ],
   "source": [
    "!psql -c \"select * from pagila.rental left outer join pagila.customer on rental.customer_id = customer.customer_id where rental.customer_id = 7 order by rental_id limit 10;\" "
   ]
  },
  {
   "cell_type": "markdown",
   "id": "herbal-management",
   "metadata": {},
   "source": [
    "### Joining the Film table to the Language table by right outer join, ordered by film length where language.language_id is equal to 1"
   ]
  },
  {
   "cell_type": "code",
   "execution_count": 2,
   "id": "hourly-andorra",
   "metadata": {},
   "outputs": [
    {
     "name": "stdout",
     "output_type": "stream",
     "text": [
      " film_id |        title        |                                           description                                            | release_year | language_id | original_language_id | rental_duration | rental_rate | length | replacement_cost | rating |          last_update          |                  special_features                   |                                                                        fulltext                                                                        | language_id |         name         |      last_update       \n",
      "---------+---------------------+--------------------------------------------------------------------------------------------------+--------------+-------------+----------------------+-----------------+-------------+--------+------------------+--------+-------------------------------+-----------------------------------------------------+--------------------------------------------------------------------------------------------------------------------------------------------------------+-------------+----------------------+------------------------\n",
      "     469 | IRON MOON           | A Fast-Paced Documentary of a Mad Cow And a Boy who must Pursue a Dentist in A Baloon            |         2006 |           1 |                      |               7 |        4.99 |     46 |            27.99 | PG     | 2017-09-10 17:46:03.905795+00 | {Commentaries,\"Behind the Scenes\"}                  | 'baloon':22 'boy':14 'cow':11 'dentist':19 'documentari':7 'fast':5 'fast-pac':4 'iron':1 'mad':10 'moon':2 'must':16 'pace':6 'pursu':17              |           1 | English              | 2017-02-15 10:02:19+00\n",
      "     504 | KWAI HOMEWARD       | A Amazing Drama of a Car And a Squirrel who must Pursue a Car in Soviet Georgia                  |         2006 |           1 |                      |               5 |        0.99 |     46 |            25.99 | PG-13  | 2017-09-10 17:46:03.905795+00 | {Trailers,Commentaries}                             | 'amaz':4 'car':8,16 'drama':5 'georgia':19 'homeward':2 'kwai':1 'must':13 'pursu':14 'soviet':18 'squirrel':11                                        |           1 | English              | 2017-02-15 10:02:19+00\n",
      "      15 | ALIEN CENTER        | A Brilliant Drama of a Cat And a Mad Scientist who must Battle a Feminist in A MySQL Convention  |         2006 |           1 |                      |               5 |        2.99 |     46 |            10.99 | NC-17  | 2017-09-10 17:46:03.905795+00 | {Trailers,Commentaries,\"Behind the Scenes\"}         | 'alien':1 'battl':15 'brilliant':4 'cat':8 'center':2 'convent':21 'drama':5 'feminist':17 'mad':11 'must':14 'mysql':20 'scientist':12                |           1 | English              | 2017-02-15 10:02:19+00\n",
      "     730 | RIDGEMONT SUBMARINE | A Unbelieveable Drama of a Waitress And a Composer who must Sink a Mad Cow in Ancient Japan      |         2006 |           1 |                      |               3 |        0.99 |     46 |            28.99 | PG-13  | 2017-09-10 17:46:03.905795+00 | {Commentaries,\"Deleted Scenes\",\"Behind the Scenes\"} | 'ancient':19 'compos':11 'cow':17 'drama':5 'japan':20 'mad':16 'must':13 'ridgemont':1 'sink':14 'submarin':2 'unbeliev':4 'waitress':8               |           1 | English              | 2017-02-15 10:02:19+00\n",
      "     505 | LABYRINTH LEAGUE    | A Awe-Inspiring Saga of a Composer And a Frisbee who must Succumb a Pioneer in The Sahara Desert |         2006 |           1 |                      |               6 |        2.99 |     46 |            24.99 | PG-13  | 2017-09-10 17:46:03.905795+00 | {Commentaries,\"Behind the Scenes\"}                  | 'awe':5 'awe-inspir':4 'compos':10 'desert':22 'frisbe':13 'inspir':6 'labyrinth':1 'leagu':2 'must':15 'pioneer':18 'saga':7 'sahara':21 'succumb':16 |           1 | English              | 2017-02-15 10:02:19+00\n",
      "(5 rows)\n",
      "\n"
     ]
    }
   ],
   "source": [
    "!psql -c \"select * from pagila.film right outer join pagila.language on film.language_id = language.language_id where language.language_id = 1 order by film.length limit 5;\" "
   ]
  },
  {
   "cell_type": "markdown",
   "id": "photographic-beverage",
   "metadata": {},
   "source": [
    "### Joining the Staff table to the Payment table by full outer join, ordered by payment_id where staff.last_name starts with an 'S'"
   ]
  },
  {
   "cell_type": "code",
   "execution_count": 39,
   "id": "trained-modern",
   "metadata": {},
   "outputs": [
    {
     "name": "stdout",
     "output_type": "stream",
     "text": [
      " staff_id | first_name | last_name | address_id |            email             | store_id | active | username |                 password                 |         last_update          | picture | payment_id | customer_id | staff_id | rental_id | amount |         payment_date          \n",
      "----------+------------+-----------+------------+------------------------------+----------+--------+----------+------------------------------------------+------------------------------+---------+------------+-------------+----------+-----------+--------+-------------------------------\n",
      "        2 | Jon        | Stephens  |          4 | Jon.Stephens@sakilastaff.com |        2 | t      | Jon      | 8cb2237d0679ca88db6464eac60da96345513964 | 2017-05-16 16:13:11.79328+00 |         |      16050 |         269 |        2 |         7 |   1.99 | 2017-01-24 21:40:19.996577+00\n",
      "        2 | Jon        | Stephens  |          4 | Jon.Stephens@sakilastaff.com |        2 | t      | Jon      | 8cb2237d0679ca88db6464eac60da96345513964 | 2017-05-16 16:13:11.79328+00 |         |      16050 |         269 |        2 |         7 |   1.99 | 2017-01-24 21:40:19.996577+00\n",
      "        2 | Jon        | Stephens  |          4 | Jon.Stephens@sakilastaff.com |        2 | t      | Jon      | 8cb2237d0679ca88db6464eac60da96345513964 | 2017-05-16 16:13:11.79328+00 |         |      16052 |         269 |        2 |       678 |   6.99 | 2017-01-28 21:44:14.996577+00\n",
      "        2 | Jon        | Stephens  |          4 | Jon.Stephens@sakilastaff.com |        2 | t      | Jon      | 8cb2237d0679ca88db6464eac60da96345513964 | 2017-05-16 16:13:11.79328+00 |         |      16052 |         269 |        2 |       678 |   6.99 | 2017-01-28 21:44:14.996577+00\n",
      "        2 | Jon        | Stephens  |          4 | Jon.Stephens@sakilastaff.com |        2 | t      | Jon      | 8cb2237d0679ca88db6464eac60da96345513964 | 2017-05-16 16:13:11.79328+00 |         |      16053 |         269 |        2 |       703 |   0.99 | 2017-01-29 00:58:02.996577+00\n",
      "(5 rows)\n",
      "\n"
     ]
    }
   ],
   "source": [
    "!psql -c \"select * from pagila.staff full outer join pagila.payment on staff.staff_id = payment.staff_id where staff.last_name like 'S%' order by payment.payment_id limit 5;\""
   ]
  },
  {
   "cell_type": "markdown",
   "id": "dramatic-quantity",
   "metadata": {},
   "source": [
    "### Self join on Film"
   ]
  },
  {
   "cell_type": "code",
   "execution_count": 16,
   "id": "ultimate-spray",
   "metadata": {},
   "outputs": [
    {
     "name": "stdout",
     "output_type": "stream",
     "text": [
      "      title       |        title        | length \n",
      "------------------+---------------------+--------\n",
      " ACADEMY DINOSAUR | ANNIE IDENTITY      |     86\n",
      " ACADEMY DINOSAUR | GANDHI KWAI         |     86\n",
      " ACADEMY DINOSAUR | MIDNIGHT WESTWARD   |     86\n",
      " ACADEMY DINOSAUR | YENTL IDAHO         |     86\n",
      " ACE GOLDFINGER   | HEAVEN FREEDOM      |     48\n",
      " ACE GOLDFINGER   | MIDSUMMER GROUNDHOG |     48\n",
      " ACE GOLDFINGER   | NOTTING SPEAKEASY   |     48\n",
      " ACE GOLDFINGER   | ODDS BOOGIE         |     48\n",
      " ACE GOLDFINGER   | PARADISE SABRINA    |     48\n",
      " ACE GOLDFINGER   | PELICAN COMFORTS    |     48\n",
      "(10 rows)\n",
      "\n"
     ]
    }
   ],
   "source": [
    "!psql -c \"SELECT f1.title,f2.title,f1.length FROM pagila.film f1 INNER JOIN pagila.film f2 ON f1.film_id <> f2.film_id AND f1.length = f2.length limit 10\""
   ]
  }
 ],
 "metadata": {
  "environment": {
   "name": "common-cpu.mnightly-2021-01-20-debian-10-test",
   "type": "gcloud",
   "uri": "gcr.io/deeplearning-platform-release/base-cpu:mnightly-2021-01-20-debian-10-test"
  },
  "kernelspec": {
   "display_name": "Python 3",
   "language": "python",
   "name": "python3"
  },
  "language_info": {
   "codemirror_mode": {
    "name": "ipython",
    "version": 3
   },
   "file_extension": ".py",
   "mimetype": "text/x-python",
   "name": "python",
   "nbconvert_exporter": "python",
   "pygments_lexer": "ipython3",
   "version": "3.7.9"
  }
 },
 "nbformat": 4,
 "nbformat_minor": 5
}
