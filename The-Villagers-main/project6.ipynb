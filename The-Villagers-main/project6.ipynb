{
 "cells": [
  {
   "cell_type": "code",
   "execution_count": 1,
   "id": "domestic-arbor",
   "metadata": {},
   "outputs": [
    {
     "name": "stdout",
     "output_type": "stream",
     "text": [
      "env: CYPHER=/home/jupyter/neo4j-community-4.1.3/bin/cypher-shell\n",
      "env: USER=neo4j\n",
      "env: PW=AlexiaAmber\n"
     ]
    }
   ],
   "source": [
    "%env CYPHER=/home/jupyter/neo4j-community-4.1.3/bin/cypher-shell\n",
    "%env USER=neo4j\n",
    "%env PW=AlexiaAmber"
   ]
  },
  {
   "cell_type": "markdown",
   "id": "absent-tuner",
   "metadata": {},
   "source": [
    "set the CONNECT variable before running the command!"
   ]
  },
  {
   "cell_type": "code",
   "execution_count": 2,
   "id": "loaded-circulation",
   "metadata": {},
   "outputs": [],
   "source": [
    "CONNECT=\"$CYPHER -u $USER -p $PW\""
   ]
  },
  {
   "cell_type": "markdown",
   "id": "precise-fundamental",
   "metadata": {},
   "source": [
    "### Before loading any data, be sure your database is empty by running this command:\n",
    "\n",
    "!$CONNECT \"MATCH (n) DETACH DELETE n\""
   ]
  },
  {
   "cell_type": "code",
   "execution_count": 5,
   "id": "sporting-shooting",
   "metadata": {},
   "outputs": [
    {
     "name": "stdout",
     "output_type": "stream",
     "text": [
      "0 rows available after 7 ms, consumed after another 0 ms\n"
     ]
    }
   ],
   "source": [
    "!{CONNECT} \"MATCH (n) DETACH DELETE n\""
   ]
  },
  {
   "cell_type": "markdown",
   "id": "varying-necessity",
   "metadata": {},
   "source": [
    "### Third, load the airbnb data into Neo4j as follows:\n",
    "    \n",
    "!cat /home/jupyter/airbnb/load_data.cypher | {CONNECT} --format plain"
   ]
  },
  {
   "cell_type": "code",
   "execution_count": 6,
   "id": "behavioral-mobile",
   "metadata": {},
   "outputs": [
    {
     "name": "stdout",
     "output_type": "stream",
     "text": [
      "COUNT(l)\n",
      "5835\n",
      "COUNT(a)\n",
      "42\n",
      "COUNT(n)\n",
      "41\n",
      "COUNT(h)\n",
      "4633\n",
      "COUNT(u)\n",
      "55917\n",
      "COUNT(r)\n",
      "62976\n"
     ]
    }
   ],
   "source": [
    "!cat /home/jupyter/airbnb/load_data.cypher | {CONNECT} --format plain"
   ]
  },
  {
   "cell_type": "code",
   "execution_count": 7,
   "id": "computational-arrangement",
   "metadata": {},
   "outputs": [
    {
     "name": "stdout",
     "output_type": "stream",
     "text": [
      "+----------+\n",
      "| count(n) |\n",
      "+----------+\n",
      "| 129444   |\n",
      "+----------+\n",
      "\n",
      "1 row available after 13 ms, consumed after another 0 ms\n"
     ]
    }
   ],
   "source": [
    "!{CONNECT} \"MATCH (n) RETURN count(n)\""
   ]
  },
  {
   "cell_type": "markdown",
   "id": "phantom-spoke",
   "metadata": {},
   "source": [
    "### Go back to your notebook and run a count for each unique node label in the graph:"
   ]
  },
  {
   "cell_type": "code",
   "execution_count": 8,
   "id": "stuffed-bullet",
   "metadata": {},
   "outputs": [
    {
     "name": "stdout",
     "output_type": "stream",
     "text": [
      "+-----------------------------+\n",
      "| labels(n)        | count(n) |\n",
      "+-----------------------------+\n",
      "| [\"Listing\"]      | 5835     |\n",
      "| [\"Amenity\"]      | 42       |\n",
      "| [\"Neighborhood\"] | 41       |\n",
      "| [\"Host\"]         | 4633     |\n",
      "| [\"User\"]         | 55917    |\n",
      "| [\"Review\"]       | 62976    |\n",
      "+-----------------------------+\n",
      "\n",
      "6 rows available after 28 ms, consumed after another 112 ms\n"
     ]
    }
   ],
   "source": [
    "!{CONNECT} \"MATCH (n) RETURN distinct labels(n), count(n)\""
   ]
  },
  {
   "cell_type": "markdown",
   "id": "nominated-tourist",
   "metadata": {},
   "source": [
    "### Sample the data by returning the contents of 10 random nodes in one query"
   ]
  },
  {
   "cell_type": "code",
   "execution_count": 9,
   "id": "virgin-mercury",
   "metadata": {},
   "outputs": [
    {
     "name": "stdout",
     "output_type": "stream",
     "text": [
      "+-----------------------------------------------------------------------------------------------------------------------------------------------------------------------------------------------------------------------------+\n",
      "| n                                                                                                                                                                                                                           |\n",
      "+-----------------------------------------------------------------------------------------------------------------------------------------------------------------------------------------------------------------------------+\n",
      "| (:Listing {bedrooms: 1, cleaning_fee: 80.0, weekly_price: 700.0, listing_id: \"627784\", availability_365: 26, price: 120.0, accommodates: 2, name: \"Charming Home in Central Austin\", property_type: \"House\", bathrooms: 1}) |\n",
      "| (:Listing {bedrooms: 2, listing_id: \"528160\", availability_365: 365, price: 700.0, accommodates: 7, name: \"*****Home to Rent for SXSW*****\", property_type: \"House\", bathrooms: 2})                                         |\n",
      "| (:Listing {bedrooms: 2, cleaning_fee: 100.0, listing_id: \"362460\", availability_365: 365, price: 625.0, accommodates: 4, name: \"SXSW  Bungalow Available 2/1\", property_type: \"House\", bathrooms: 1})                       |\n",
      "| (:Listing {bedrooms: 8, cleaning_fee: 225.0, listing_id: \"5309717\", availability_365: 234, price: 700.0, accommodates: 8, name: \"HYDE PARK | YOU ARE HERE\", property_type: \"Apartment\", bathrooms: 4})                      |\n",
      "| (:Listing {bedrooms: 2, cleaning_fee: 15.0, listing_id: \"5641626\", availability_365: 214, price: 250.0, accommodates: 4, name: \"Great Cozy 2/1 close to downtown!!\", property_type: \"House\", bathrooms: 1})                 |\n",
      "| (:Listing {bedrooms: 2, cleaning_fee: 50.0, listing_id: \"312499\", availability_365: 310, price: 160.0, accommodates: 4, name: \"Great Modern Home in Central Austin\", property_type: \"House\", bathrooms: 1})                 |\n",
      "| (:Listing {bedrooms: 1, listing_id: \"5543526\", availability_365: 89, price: 40.0, accommodates: 2, name: \"Home away from home\", property_type: \"House\", bathrooms: 1})                                                      |\n",
      "| (:Listing {bedrooms: 1, cleaning_fee: 7.0, listing_id: \"5455707\", availability_365: 124, price: 33.0, accommodates: 4, name: \"Master Suite\", property_type: \"House\", bathrooms: 1})                                         |\n",
      "| (:Listing {bedrooms: 1, cleaning_fee: 10.0, listing_id: \"5768100\", availability_365: 22, price: 59.0, accommodates: 6, name: \"2 Bedrooms - 2-6 People!\", property_type: \"House\", bathrooms: 2})                             |\n",
      "| (:Listing {bedrooms: 1, listing_id: \"8627429\", availability_365: 365, price: 65.0, accommodates: 2, name: \"Safe gated apartment for festival\", property_type: \"Apartment\"})                                                 |\n",
      "+-----------------------------------------------------------------------------------------------------------------------------------------------------------------------------------------------------------------------------+\n",
      "\n",
      "10 rows available after 16 ms, consumed after another 1 ms\n"
     ]
    }
   ],
   "source": [
    "!{CONNECT} \"MATCH (n) RETURN n LIMIT 10\""
   ]
  },
  {
   "cell_type": "markdown",
   "id": "indonesian-choir",
   "metadata": {},
   "source": [
    "### and 10 random relationships in another query."
   ]
  },
  {
   "cell_type": "code",
   "execution_count": 10,
   "id": "caroline-conference",
   "metadata": {},
   "outputs": [
    {
     "name": "stdout",
     "output_type": "stream",
     "text": [
      "+--------------------+\n",
      "| r                  |\n",
      "+--------------------+\n",
      "| [:IN_NEIGHBORHOOD] |\n",
      "| [:HAS]             |\n",
      "| [:HAS]             |\n",
      "| [:HAS]             |\n",
      "| [:HAS]             |\n",
      "| [:HAS]             |\n",
      "| [:HAS]             |\n",
      "| [:HAS]             |\n",
      "| [:HAS]             |\n",
      "| [:HAS]             |\n",
      "+--------------------+\n",
      "\n",
      "10 rows available after 13 ms, consumed after another 1 ms\n"
     ]
    }
   ],
   "source": [
    "!{CONNECT} \"MATCH ()-[r]-> () return r LIMIT 10\""
   ]
  },
  {
   "cell_type": "markdown",
   "id": "superb-retail",
   "metadata": {},
   "source": [
    "### Q1. How many hosts are located in \"Austin, Texas, United States\"?"
   ]
  },
  {
   "cell_type": "code",
   "execution_count": 23,
   "id": "signal-bullet",
   "metadata": {},
   "outputs": [
    {
     "name": "stdout",
     "output_type": "stream",
     "text": [
      "+----------+\n",
      "| count(h) |\n",
      "+----------+\n",
      "| 3774     |\n",
      "+----------+\n",
      "\n",
      "1 row available after 9 ms, consumed after another 5 ms\n"
     ]
    }
   ],
   "source": [
    "!{CONNECT} \"MATCH (h:Host) WHERE h.location = 'Austin, Texas, United States' return count(h);\""
   ]
  },
  {
   "cell_type": "markdown",
   "id": "accessory-laugh",
   "metadata": {},
   "source": [
    "### Q2. Which listings does host_id = \"4641823\" have? Return the listing name, property_type, price, and availability_365 sorted by price. Limit the results to 10."
   ]
  },
  {
   "cell_type": "code",
   "execution_count": 94,
   "id": "moving-authority",
   "metadata": {},
   "outputs": [
    {
     "name": "stdout",
     "output_type": "stream",
     "text": [
      "+----------------------------------------------------------------------------------------+\n",
      "| l.name                                | l.property_type | l.price | l.availability_365 |\n",
      "+----------------------------------------------------------------------------------------+\n",
      "| \"1BR Convenient Austin Condo \"        | \"Apartment\"     | 93.0    | 354                |\n",
      "| \"1BR Inviting Downtown Condo, Pool\"   | \"Apartment\"     | 99.0    | 335                |\n",
      "| \"2BR/1.5BA Charming House Off SoCo\"   | \"House\"         | 110.0   | 357                |\n",
      "| \"2BR Prime East-Side Downtown\"        | \"House\"         | 121.0   | 341                |\n",
      "| \"1BR SoCo Treehouse Studio\"           | \"House\"         | 129.0   | 327                |\n",
      "| \"1BR/1.5BA East 6th, Colorful 2Story\" | \"Apartment\"     | 134.0   | 344                |\n",
      "| \"3BR Prestigious Home Travis Heights\" | \"House\"         | 138.0   | 0                  |\n",
      "| \"1BR/1.5BA Perfectly Located Casita\"  | \"House\"         | 140.0   | 351                |\n",
      "| \"3BR/2BA Inviting Retreat off SoCo\"   | \"House\"         | 145.0   | 353                |\n",
      "| \"2BR/2BA Austin Soul Off Soco!\"       | \"House\"         | 149.0   | 334                |\n",
      "+----------------------------------------------------------------------------------------+\n",
      "\n",
      "10 rows available after 33 ms, consumed after another 2 ms\n"
     ]
    }
   ],
   "source": [
    "!{CONNECT} \"MATCH (h:Host)-[:HOSTS]->(l:Listing) WHERE h.host_id = '4641823' RETURN l.name, l.property_type, l.price, l.availability_365 ORDER BY l.price LIMIT 10;\""
   ]
  },
  {
   "cell_type": "markdown",
   "id": "instant-marriage",
   "metadata": {},
   "source": [
    "### Q3. Which users wrote a review for listing_id = \"5293632\"? Return the user’s id and name sorted alphabetically by name. Limit the results to 10."
   ]
  },
  {
   "cell_type": "code",
   "execution_count": 78,
   "id": "dimensional-benjamin",
   "metadata": {},
   "outputs": [
    {
     "name": "stdout",
     "output_type": "stream",
     "text": [
      "+--------------------------------+\n",
      "| u.user_id  | u.name            |\n",
      "+--------------------------------+\n",
      "| \"18286390\" | \"Annie\"           |\n",
      "| \"30193020\" | \"Carole\"          |\n",
      "| \"16497582\" | \"Cory\"            |\n",
      "| \"35022795\" | \"Craig And Trina\" |\n",
      "| \"13281665\" | \"Dianne\"          |\n",
      "| \"29601600\" | \"Hannah\"          |\n",
      "| \"11940539\" | \"Jacob\"           |\n",
      "| \"3213433\"  | \"Jessie\"          |\n",
      "| \"41722221\" | \"Johannes\"        |\n",
      "| \"28480571\" | \"Ju-Ju\"           |\n",
      "+--------------------------------+\n",
      "\n",
      "10 rows available after 39 ms, consumed after another 0 ms\n"
     ]
    }
   ],
   "source": [
    "!{CONNECT} \"MATCH (u:User)-[:WROTE]->(r:Review)-[:REVIEWS]->(l:Listing) WHERE l.listing_id = '5293632' RETURN u.user_id, u.name ORDER BY u.name LIMIT 10;\""
   ]
  },
  {
   "cell_type": "markdown",
   "id": "compressed-slope",
   "metadata": {},
   "source": [
    "### Q4. Which users wrote a review for any listing which has the amenities \"Washer\" and \"Dryer\"? Return the user’s id and name sorted alphabetically by name. Limit the results to 10."
   ]
  },
  {
   "cell_type": "code",
   "execution_count": 115,
   "id": "experienced-portfolio",
   "metadata": {},
   "outputs": [
    {
     "name": "stdout",
     "output_type": "stream",
     "text": [
      "+-------------------------------------+\n",
      "| u.user_id  | u.name                 |\n",
      "+-------------------------------------+\n",
      "| \"6524431\"  | \"'Ley\"                 |\n",
      "| \"8026901\"  | \"(We Are) Bonnie & Ky\" |\n",
      "| \"14689717\" | \"(email hidden)\"       |\n",
      "| \"11495251\" | \"(email hidden)\"       |\n",
      "| \"10251681\" | \"(email hidden)\"       |\n",
      "| \"8293309\"  | \"(email hidden)\"       |\n",
      "| \"15315643\" | \"(email hidden)\"       |\n",
      "| \"12694638\" | \"(email hidden)\"       |\n",
      "| \"13381969\" | \"(email hidden)\"       |\n",
      "| \"12694638\" | \"(email hidden)\"       |\n",
      "+-------------------------------------+\n",
      "\n",
      "10 rows available after 260 ms, consumed after another 240 ms\n"
     ]
    }
   ],
   "source": [
    "!{CONNECT} \"MATCH (u:User)-[:WROTE]->(r:Review)-[:REVIEWS]->(l:Listing) WHERE (:Amenity {{name: 'Washer'}})<-[:HAS]-(l:Listing)-[:HAS]->(:Amenity {{name: 'Dryer'}}) RETURN u.user_id, u.name ORDER BY u.name LIMIT 10;\""
   ]
  },
  {
   "cell_type": "markdown",
   "id": "stunning-maple",
   "metadata": {},
   "source": [
    "### Q5. Which listings have 3 bedrooms and are located in the Clarksville neighborhood? Return the listing name, property_type, price, and availability_365 sorted by price. Limit the results to 5."
   ]
  },
  {
   "cell_type": "code",
   "execution_count": 82,
   "id": "verbal-waters",
   "metadata": {},
   "outputs": [
    {
     "name": "stdout",
     "output_type": "stream",
     "text": [
      "+----------------------------------------------------------------------------------------+\n",
      "| l.name                                | l.property_type | l.price | l.availability_365 |\n",
      "+----------------------------------------------------------------------------------------+\n",
      "| \"3BR/2.5BA Exquisite Townhouse\"       | \"House\"         | 222.0   | 358                |\n",
      "| \"3BR/2.5BA Tarrytown Duplex, Austin!\" | \"House\"         | 249.0   | 336                |\n",
      "| \"Austin downtown hideaway\"            | \"House\"         | 249.0   | 364                |\n",
      "| \"3BD Luxury Cottage by Lake Austin\"   | \"House\"         | 290.0   | 309                |\n",
      "| \"Entire Adorable Downtown House\"      | \"House\"         | 295.0   | 309                |\n",
      "+----------------------------------------------------------------------------------------+\n",
      "\n",
      "5 rows available after 33 ms, consumed after another 1 ms\n"
     ]
    }
   ],
   "source": [
    "!{CONNECT} \"MATCH (l:Listing)-[]->(n:Neighborhood) WHERE l.bedrooms = 3 AND n.name = 'Clarksville' RETURN l.name, l.property_type, l.price, l.availability_365 ORDER BY l.price LIMIT 5;\" "
   ]
  },
  {
   "cell_type": "markdown",
   "id": "offshore-sleeve",
   "metadata": {},
   "source": [
    "### Q6. Which amenities are the most common? Return the name of the amenity and its frequency. Sort the results by count in descending order. Limit the results to 5."
   ]
  },
  {
   "cell_type": "markdown",
   "id": "apart-madrid",
   "metadata": {},
   "source": [
    "To figure out which amenity is the most common, you would need the context of its relationship with the listing. So you would have to fetch the most common amenity using listing to amenity relationship."
   ]
  },
  {
   "cell_type": "code",
   "execution_count": 88,
   "id": "temporal-staff",
   "metadata": {},
   "outputs": [
    {
     "name": "stdout",
     "output_type": "stream",
     "text": [
      "+---------------------------------------+\n",
      "| a.name                     | count(a) |\n",
      "+---------------------------------------+\n",
      "| \"Air Conditioning\"         | 5615     |\n",
      "| \"Wireless Internet\"        | 5479     |\n",
      "| \"Heating\"                  | 5440     |\n",
      "| \"Kitchen\"                  | 5400     |\n",
      "| \"Free Parking on Premises\" | 5123     |\n",
      "+---------------------------------------+\n",
      "\n",
      "5 rows available after 1 ms, consumed after another 138 ms\n"
     ]
    }
   ],
   "source": [
    "!{CONNECT} \"MATCH (l:Listing)-[:HAS]->(a:Amenity) RETURN distinct a.name, count(a) ORDER BY count(a) DESC LIMIT 5\""
   ]
  },
  {
   "cell_type": "markdown",
   "id": "outstanding-introduction",
   "metadata": {},
   "source": [
    "### Q7. Which neighborhoods have the highest number of listings? Return the neighborhood’s name and zip code (neighborhood_id) along with the number of listings they have sorted by the number of listings in descending order. Limit the results to 5."
   ]
  },
  {
   "cell_type": "code",
   "execution_count": 60,
   "id": "earlier-defendant",
   "metadata": {},
   "outputs": [
    {
     "name": "stdout",
     "output_type": "stream",
     "text": [
      "+-----------------------------+\n",
      "| n.name           | count(n) |\n",
      "+-----------------------------+\n",
      "| NULL             | 3248     |\n",
      "| \"Hancock\"        | 493      |\n",
      "| \"Clarksville\"    | 419      |\n",
      "| \"East Riverside\" | 414      |\n",
      "| \"Barton Hills\"   | 182      |\n",
      "+-----------------------------+\n",
      "\n",
      "5 rows available after 1 ms, consumed after another 11 ms\n"
     ]
    }
   ],
   "source": [
    "!{CONNECT} \"MATCH (l:Listing)-[:IN_NEIGHBORHOOD]->(n:Neighborhood) RETURN distinct n.name, count(n) ORDER BY count (n) DESC LIMIT 5;\""
   ]
  }
 ],
 "metadata": {
  "environment": {
   "name": "common-cpu.mnightly-2021-01-20-debian-10-test",
   "type": "gcloud",
   "uri": "gcr.io/deeplearning-platform-release/base-cpu:mnightly-2021-01-20-debian-10-test"
  },
  "kernelspec": {
   "display_name": "Python 3",
   "language": "python",
   "name": "python3"
  },
  "language_info": {
   "codemirror_mode": {
    "name": "ipython",
    "version": 3
   },
   "file_extension": ".py",
   "mimetype": "text/x-python",
   "name": "python",
   "nbconvert_exporter": "python",
   "pygments_lexer": "ipython3",
   "version": "3.7.9"
  }
 },
 "nbformat": 4,
 "nbformat_minor": 5
}
