{
 "cells": [
  {
   "cell_type": "markdown",
   "id": "inner-belly",
   "metadata": {},
   "source": [
    "### Translate the following SQL queries to Mongo’s query language. Place each query into its own notebook cell and run each cell individually"
   ]
  },
  {
   "cell_type": "markdown",
   "id": "electoral-seeker",
   "metadata": {},
   "source": [
    "### Q1 Translate: \n",
    "select count(*)\n",
    "from products;"
   ]
  },
  {
   "cell_type": "code",
   "execution_count": 1,
   "id": "stupid-shower",
   "metadata": {},
   "outputs": [
    {
     "name": "stdout",
     "output_type": "stream",
     "text": [
      "309370\n"
     ]
    }
   ],
   "source": [
    "!mongo open_food --quiet --eval 'db.products.count()' # gets a document count in the collection."
   ]
  },
  {
   "cell_type": "markdown",
   "id": "cross-bruce",
   "metadata": {},
   "source": [
    "### Q2 Translate: \n",
    "select _id, product_name\n",
    "from products\n",
    "where categories = 'Snacks, Sweet snacks, Confectioneries,\n",
    "Candies, Chews';"
   ]
  },
  {
   "cell_type": "code",
   "execution_count": 18,
   "id": "persistent-vegetable",
   "metadata": {},
   "outputs": [
    {
     "name": "stdout",
     "output_type": "stream",
     "text": [
      "{ \"_id\" : \"0071720007105\", \"product_name\" : \"Tootsie Roll\" }\n"
     ]
    }
   ],
   "source": [
    "!mongo open_food --quiet --eval 'db.products.find({categories: \"Snacks, Sweet snacks, Confectioneries, Candies, Chews\"},{product_name: 1}).pretty()' "
   ]
  },
  {
   "cell_type": "markdown",
   "id": "domestic-monitoring",
   "metadata": {},
   "source": [
    "### Q3 Translate: \n",
    "select _id, code, product_name\n",
    "from products\n",
    "where last_modified_t >= 1601856000;"
   ]
  },
  {
   "cell_type": "code",
   "execution_count": 2,
   "id": "exposed-geometry",
   "metadata": {},
   "outputs": [
    {
     "name": "stdout",
     "output_type": "stream",
     "text": [
      "{\n",
      "\t\"_id\" : \"0852909003299\",\n",
      "\t\"product_name\" : \"Almondmilk\",\n",
      "\t\"code\" : \"0852909003299\"\n",
      "}\n",
      "{\n",
      "\t\"_id\" : \"0840423102055\",\n",
      "\t\"code\" : \"0840423102055\",\n",
      "\t\"product_name\" : \"Garlic wine pasta with chicken meatballs with whole wheat rotini, white beans, and greens, cooked in avocado oil, and topped with parmesan and mozzarella, garlic wine pasta with chicken meatballs\"\n",
      "}\n"
     ]
    }
   ],
   "source": [
    "!mongo open_food --quiet --eval 'db.products.find({last_modified_t:{$gte:1601856000}},{code:1, product_name:1}).pretty()'"
   ]
  },
  {
   "cell_type": "markdown",
   "id": "imported-thong",
   "metadata": {},
   "source": [
    "### Q4 Translate: \n",
    "select count(*)\n",
    "from products\n",
    "where packaging = 'Plastic';"
   ]
  },
  {
   "cell_type": "code",
   "execution_count": 30,
   "id": "static-alfred",
   "metadata": {},
   "outputs": [
    {
     "name": "stdout",
     "output_type": "stream",
     "text": [
      "115\n"
     ]
    }
   ],
   "source": [
    "!mongo open_food --quiet --eval 'db.products.count({\"packaging\": \"Plastic\"})' "
   ]
  },
  {
   "cell_type": "markdown",
   "id": "baking-cabin",
   "metadata": {},
   "source": [
    "### Q5 Translate: \n",
    "select _id, code, creator, product_name, brands\n",
    "from products\n",
    "where manufacturing_places = 'Austin, TX'\n",
    "and stores = 'Whole Foods';"
   ]
  },
  {
   "cell_type": "code",
   "execution_count": 8,
   "id": "greater-beginning",
   "metadata": {},
   "outputs": [
    {
     "name": "stdout",
     "output_type": "stream",
     "text": [
      "{\n",
      "\t\"_id\" : \"0099482455859\",\n",
      "\t\"creator\" : \"usda-ndb-import\",\n",
      "\t\"brands\" : \"365 Everyday Value,Whole Foods Market  Inc.\",\n",
      "\t\"code\" : \"0099482455859\",\n",
      "\t\"product_name\" : \"Whole Wheat Bread\"\n",
      "}\n"
     ]
    }
   ],
   "source": [
    "!mongo open_food --quiet --eval 'db.products.find({manufacturing_places: \"Austin, TX\", stores:\"Whole Foods\"},{code:1, creator:1, product_name:1, brands:1}).pretty()' "
   ]
  },
  {
   "cell_type": "markdown",
   "id": "welsh-barrier",
   "metadata": {},
   "source": [
    "### Q6 Translate: \n",
    "select _id, creator, product_name, brands\n",
    "from products\n",
    "where brands = 'Trader Joes' and product_name is not null\n",
    "order by product_name;"
   ]
  },
  {
   "cell_type": "code",
   "execution_count": 58,
   "id": "saving-marriage",
   "metadata": {},
   "outputs": [
    {
     "name": "stdout",
     "output_type": "stream",
     "text": [
      "{\n",
      "\t\"_id\" : \"00547352\",\n",
      "\t\"product_name\" : \"Organic roasted vegetable pizza\",\n",
      "\t\"creator\" : \"djfkzz\",\n",
      "\t\"brands\" : \"Trader Joes\"\n",
      "}\n",
      "{\n",
      "\t\"_id\" : \"00556903\",\n",
      "\t\"brands\" : \"Trader Joes\",\n",
      "\t\"creator\" : \"djfkzz\",\n",
      "\t\"product_name\" : \"Thai Sweet Chili Veggie Burger\"\n",
      "}\n",
      "{\n",
      "\t\"_id\" : \"00508285\",\n",
      "\t\"product_name\" : \"Trader joes, sriracha sauce\",\n",
      "\t\"brands\" : \"Trader Joes\",\n",
      "\t\"creator\" : \"usda-ndb-import\"\n",
      "}\n"
     ]
    }
   ],
   "source": [
    "!mongo open_food --quiet --eval 'db.products.find({brands: \"Trader Joes\", \"product_name\": {$ne:null}},{creator:1, product_name:1, brands:1}).sort({product_name:1}).pretty()' "
   ]
  },
  {
   "cell_type": "markdown",
   "id": "corrected-bowling",
   "metadata": {},
   "source": [
    "Testing out the counts of each find statement (DELETE LATER)"
   ]
  },
  {
   "cell_type": "code",
   "execution_count": 9,
   "id": "impaired-sight",
   "metadata": {},
   "outputs": [
    {
     "name": "stdout",
     "output_type": "stream",
     "text": [
      "1\n"
     ]
    }
   ],
   "source": [
    "!mongo open_food --quiet --eval 'db.products.count({categories: \"Snacks, Sweet snacks, Confectioneries, Candies, Chews\"})' "
   ]
  },
  {
   "cell_type": "code",
   "execution_count": 10,
   "id": "bulgarian-airfare",
   "metadata": {},
   "outputs": [
    {
     "name": "stdout",
     "output_type": "stream",
     "text": [
      "2\n"
     ]
    }
   ],
   "source": [
    "!mongo open_food --quiet --eval 'db.products.count({last_modified_t:{$gte:1601856000}})' "
   ]
  },
  {
   "cell_type": "code",
   "execution_count": 11,
   "id": "italian-restriction",
   "metadata": {},
   "outputs": [
    {
     "name": "stdout",
     "output_type": "stream",
     "text": [
      "1\n"
     ]
    }
   ],
   "source": [
    "!mongo open_food --quiet --eval 'db.products.count({manufacturing_places: \"Austin, TX\", stores:\"Whole Foods\"})' "
   ]
  },
  {
   "cell_type": "code",
   "execution_count": 6,
   "id": "certain-preview",
   "metadata": {},
   "outputs": [
    {
     "name": "stdout",
     "output_type": "stream",
     "text": [
      "3\n"
     ]
    }
   ],
   "source": [
    "!mongo open_food --quiet --eval 'db.products.count({brands: \"Trader Joes\", \"product_name\": {$ne:null}})'"
   ]
  },
  {
   "cell_type": "code",
   "execution_count": 2,
   "id": "sitting-anchor",
   "metadata": {},
   "outputs": [
    {
     "name": "stdout",
     "output_type": "stream",
     "text": [
      "6\n"
     ]
    }
   ],
   "source": [
    "!mongo open_food --quiet --eval 'db.products.count({brands: {$in:[\"m&m\\u0027s\", \"mars\", \"Mars\", \"oreo\", \"starburst\"]}})'"
   ]
  },
  {
   "cell_type": "markdown",
   "id": "proof-bridges",
   "metadata": {},
   "source": [
    "### Q7 Translate:\n",
    "select _id, product_name, brands\n",
    "from products\n",
    "where brands in (\"m&m's\", \"mars\", \"Mars\", \"oreo\", \"starburst\")\n",
    "order by product_name\n",
    "limit 5;"
   ]
  },
  {
   "cell_type": "code",
   "execution_count": 3,
   "id": "handmade-external",
   "metadata": {},
   "outputs": [
    {
     "name": "stdout",
     "output_type": "stream",
     "text": [
      "{\n",
      "\t\"_id\" : \"0040000265252\",\n",
      "\t\"brands\" : \"Mars\",\n",
      "\t\"product_name\" : \"Almond & dark chocolate\"\n",
      "}\n",
      "{ \"_id\" : \"0040000422068\", \"brands\" : \"mars\", \"product_name\" : \"BAR\" }\n",
      "{\n",
      "\t\"_id\" : \"0047677386518\",\n",
      "\t\"brands\" : \"m&m's\",\n",
      "\t\"product_name\" : \"M&m's, light ice cream, chocolate\"\n",
      "}\n",
      "{\n",
      "\t\"_id\" : \"0044000029524\",\n",
      "\t\"product_name\" : \"Nabisco oreo cookies double stuf 1x4.1 oz\",\n",
      "\t\"brands\" : \"oreo\"\n",
      "}\n",
      "{\n",
      "\t\"_id\" : \"04005108\",\n",
      "\t\"product_name\" : \"Real fruit juice!\",\n",
      "\t\"brands\" : \"starburst\"\n",
      "}\n"
     ]
    }
   ],
   "source": [
    "!mongo open_food --quiet --eval 'db.products.find({brands: {$in:[\"m&m\\u0027s\", \"mars\", \"Mars\", \"oreo\", \"starburst\"]}}, {product_name:1, brands:1}).sort({product_name:1}).limit(5).pretty()'"
   ]
  },
  {
   "cell_type": "markdown",
   "id": "three-desire",
   "metadata": {},
   "source": [
    "### Insert a new document into the products collection. The document must have a minimum of 5 attributes with non-NULL values. Read back the document you just created."
   ]
  },
  {
   "cell_type": "code",
   "execution_count": 4,
   "id": "flexible-highland",
   "metadata": {},
   "outputs": [],
   "source": [
    "food = '{_id: \"12\", product_name: \"twinkies\", brands: \"Hostess\", last_modified: \"03242021\", creator: \"USA\", stores: \"HEB\"}'"
   ]
  },
  {
   "cell_type": "code",
   "execution_count": 5,
   "id": "progressive-recycling",
   "metadata": {},
   "outputs": [
    {
     "name": "stdout",
     "output_type": "stream",
     "text": [
      "WriteResult({ \"nInserted\" : 1 })\n"
     ]
    }
   ],
   "source": [
    "!mongo open_food --quiet --eval 'db.products.insert({food})'"
   ]
  },
  {
   "cell_type": "code",
   "execution_count": 6,
   "id": "streaming-refund",
   "metadata": {},
   "outputs": [
    {
     "name": "stdout",
     "output_type": "stream",
     "text": [
      "{\n",
      "\t\"_id\" : \"12\",\n",
      "\t\"product_name\" : \"twinkies\",\n",
      "\t\"brands\" : \"Hostess\",\n",
      "\t\"last_modified\" : \"03242021\",\n",
      "\t\"creator\" : \"USA\",\n",
      "\t\"stores\" : \"HEB\"\n",
      "}\n"
     ]
    }
   ],
   "source": [
    "!mongo open_food --quiet --eval 'db.products.find({_id: \"12\"},{product_name: 1, brands: 1, creator:1, stores:1, last_modified:1}).pretty()' "
   ]
  },
  {
   "cell_type": "markdown",
   "id": "electric-magazine",
   "metadata": {},
   "source": [
    "### Update the document you created in the previous step and then read it back."
   ]
  },
  {
   "cell_type": "code",
   "execution_count": 7,
   "id": "physical-wyoming",
   "metadata": {},
   "outputs": [
    {
     "name": "stdout",
     "output_type": "stream",
     "text": [
      "WriteResult({ \"nMatched\" : 1, \"nUpserted\" : 0, \"nModified\" : 1 })\n"
     ]
    }
   ],
   "source": [
    "!mongo open_food --quiet --eval 'db.products.update({_id: \"12\"}, {$set: {\"categories\": \"dessert\"}}, false, true)' "
   ]
  },
  {
   "cell_type": "code",
   "execution_count": 9,
   "id": "psychological-floating",
   "metadata": {},
   "outputs": [
    {
     "name": "stdout",
     "output_type": "stream",
     "text": [
      "{\n",
      "\t\"_id\" : \"12\",\n",
      "\t\"product_name\" : \"twinkies\",\n",
      "\t\"brands\" : \"Hostess\",\n",
      "\t\"last_modified\" : \"03242021\",\n",
      "\t\"creator\" : \"USA\",\n",
      "\t\"stores\" : \"HEB\",\n",
      "\t\"categories\" : \"dessert\"\n",
      "}\n"
     ]
    }
   ],
   "source": [
    "!mongo open_food --quiet --eval 'db.products.find({_id: \"12\"},{product_name: 1, brands: 1, creator:1, stores:1, last_modified:1, categories: 1}).pretty()' "
   ]
  },
  {
   "cell_type": "markdown",
   "id": "earned-intervention",
   "metadata": {},
   "source": [
    "### Delete the document you updated in the previous step and then query the collection to verify that it’s been deleted."
   ]
  },
  {
   "cell_type": "code",
   "execution_count": 11,
   "id": "senior-beads",
   "metadata": {},
   "outputs": [
    {
     "name": "stdout",
     "output_type": "stream",
     "text": [
      "WriteResult({ \"nRemoved\" : 1 })\n"
     ]
    }
   ],
   "source": [
    "!mongo open_food --quiet --eval 'db.products.remove({_id: \"12\"})'"
   ]
  },
  {
   "cell_type": "code",
   "execution_count": 12,
   "id": "signed-black",
   "metadata": {},
   "outputs": [],
   "source": [
    "!mongo open_food --quiet --eval 'db.products.find({_id: \"12\"},{product_name: 1, brands: 1, creator:1, stores:1, last_modified:1, categories: 1}).pretty()' "
   ]
  }
 ],
 "metadata": {
  "environment": {
   "name": "common-cpu.mnightly-2021-01-20-debian-10-test",
   "type": "gcloud",
   "uri": "gcr.io/deeplearning-platform-release/base-cpu:mnightly-2021-01-20-debian-10-test"
  },
  "kernelspec": {
   "display_name": "Python 3",
   "language": "python",
   "name": "python3"
  },
  "language_info": {
   "codemirror_mode": {
    "name": "ipython",
    "version": 3
   },
   "file_extension": ".py",
   "mimetype": "text/x-python",
   "name": "python",
   "nbconvert_exporter": "python",
   "pygments_lexer": "ipython3",
   "version": "3.7.9"
  }
 },
 "nbformat": 4,
 "nbformat_minor": 5
}
