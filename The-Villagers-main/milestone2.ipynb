{
 "cells": [
  {
   "cell_type": "markdown",
   "id": "manufactured-throat",
   "metadata": {},
   "source": [
    "### Create a new BQ dataset to store all of your modeled tables. The dataset should be named datamart.\n"
   ]
  },
  {
   "cell_type": "code",
   "execution_count": 3,
   "id": "filled-cache",
   "metadata": {},
   "outputs": [],
   "source": [
    "dataset_id = \"datamart\""
   ]
  },
  {
   "cell_type": "code",
   "execution_count": 4,
   "id": "bright-harmony",
   "metadata": {},
   "outputs": [
    {
     "name": "stdout",
     "output_type": "stream",
     "text": [
      "Dataset 'still-bank-302722:datamart' successfully created.\n"
     ]
    }
   ],
   "source": [
    "!bq --location=US mk --dataset {dataset_id}"
   ]
  },
  {
   "cell_type": "markdown",
   "id": "brief-produce",
   "metadata": {},
   "source": [
    "### Create your modeled tables by following our BigQuery design guidelines (refer to slide 3 from lecture slides for details)\n",
    "\n",
    "● split staging tables that contain more than one entity into separate tables.\n",
    "\n",
    "● join staging tables that store different attributes belonging to the same entity.\n",
    "\n",
    "● union staging tables that store distinct records belonging to the same entity.\n",
    "\n",
    "● identify a candidate primary key (PK) for each modeled table.\n",
    "\n",
    "● check for records with the same primary key and remove unwanted ones.\n",
    "\n",
    "● identify parent-child relationships between tables.\n",
    "\n",
    "● check for referential integrity violations between parent-child tables.\n",
    "\n",
    "● remove any child records which violate referential integrity.\n"
   ]
  },
  {
   "cell_type": "markdown",
   "id": "progressive-eleven",
   "metadata": {},
   "source": [
    "Convert string nulls to int nulls (birthYear and deathYear)"
   ]
  },
  {
   "cell_type": "code",
   "execution_count": 8,
   "id": "occupational-blood",
   "metadata": {},
   "outputs": [
    {
     "data": {
      "text/html": [
       "<div>\n",
       "<style scoped>\n",
       "    .dataframe tbody tr th:only-of-type {\n",
       "        vertical-align: middle;\n",
       "    }\n",
       "\n",
       "    .dataframe tbody tr th {\n",
       "        vertical-align: top;\n",
       "    }\n",
       "\n",
       "    .dataframe thead th {\n",
       "        text-align: right;\n",
       "    }\n",
       "</style>\n",
       "<table border=\"1\" class=\"dataframe\">\n",
       "  <thead>\n",
       "    <tr style=\"text-align: right;\">\n",
       "      <th></th>\n",
       "    </tr>\n",
       "  </thead>\n",
       "  <tbody>\n",
       "  </tbody>\n",
       "</table>\n",
       "</div>"
      ],
      "text/plain": [
       "Empty DataFrame\n",
       "Columns: []\n",
       "Index: []"
      ]
     },
     "execution_count": 8,
     "metadata": {},
     "output_type": "execute_result"
    }
   ],
   "source": [
    "%%bigquery\n",
    "UPDATE IMDB_staging.name_basics nb\n",
    "SET nb.birthYear = '0'\n",
    "WHERE birthYear = \"\\\\N\""
   ]
  },
  {
   "cell_type": "code",
   "execution_count": 13,
   "id": "tender-intersection",
   "metadata": {},
   "outputs": [
    {
     "data": {
      "text/html": [
       "<div>\n",
       "<style scoped>\n",
       "    .dataframe tbody tr th:only-of-type {\n",
       "        vertical-align: middle;\n",
       "    }\n",
       "\n",
       "    .dataframe tbody tr th {\n",
       "        vertical-align: top;\n",
       "    }\n",
       "\n",
       "    .dataframe thead th {\n",
       "        text-align: right;\n",
       "    }\n",
       "</style>\n",
       "<table border=\"1\" class=\"dataframe\">\n",
       "  <thead>\n",
       "    <tr style=\"text-align: right;\">\n",
       "      <th></th>\n",
       "    </tr>\n",
       "  </thead>\n",
       "  <tbody>\n",
       "  </tbody>\n",
       "</table>\n",
       "</div>"
      ],
      "text/plain": [
       "Empty DataFrame\n",
       "Columns: []\n",
       "Index: []"
      ]
     },
     "execution_count": 13,
     "metadata": {},
     "output_type": "execute_result"
    }
   ],
   "source": [
    "%%bigquery\n",
    "UPDATE IMDB_staging.name_basics nb\n",
    "SET nb.deathYear = '0'\n",
    "WHERE deathYear = \"\\\\N\""
   ]
  },
  {
   "cell_type": "markdown",
   "id": "blind-episode",
   "metadata": {},
   "source": [
    "### Create Name_basics table"
   ]
  },
  {
   "cell_type": "code",
   "execution_count": 15,
   "id": "civilian-sensitivity",
   "metadata": {},
   "outputs": [
    {
     "data": {
      "text/html": [
       "<div>\n",
       "<style scoped>\n",
       "    .dataframe tbody tr th:only-of-type {\n",
       "        vertical-align: middle;\n",
       "    }\n",
       "\n",
       "    .dataframe tbody tr th {\n",
       "        vertical-align: top;\n",
       "    }\n",
       "\n",
       "    .dataframe thead th {\n",
       "        text-align: right;\n",
       "    }\n",
       "</style>\n",
       "<table border=\"1\" class=\"dataframe\">\n",
       "  <thead>\n",
       "    <tr style=\"text-align: right;\">\n",
       "      <th></th>\n",
       "    </tr>\n",
       "  </thead>\n",
       "  <tbody>\n",
       "  </tbody>\n",
       "</table>\n",
       "</div>"
      ],
      "text/plain": [
       "Empty DataFrame\n",
       "Columns: []\n",
       "Index: []"
      ]
     },
     "execution_count": 15,
     "metadata": {},
     "output_type": "execute_result"
    }
   ],
   "source": [
    "%%bigquery\n",
    "CREATE TABLE datamart.Name_basics as\n",
    "SELECT nconst, primaryName, CAST(birthYear as INT64) as birthYear, CAST(deathYear as INT64) as deathYear, primaryProfession, knownForTitles \n",
    "FROM IMDB_staging.name_basics"
   ]
  },
  {
   "cell_type": "markdown",
   "id": "rural-mercury",
   "metadata": {},
   "source": [
    "Checking primary key (nconst) in Name_basics table"
   ]
  },
  {
   "cell_type": "code",
   "execution_count": 12,
   "id": "metric-suite",
   "metadata": {},
   "outputs": [
    {
     "data": {
      "text/html": [
       "<div>\n",
       "<style scoped>\n",
       "    .dataframe tbody tr th:only-of-type {\n",
       "        vertical-align: middle;\n",
       "    }\n",
       "\n",
       "    .dataframe tbody tr th {\n",
       "        vertical-align: top;\n",
       "    }\n",
       "\n",
       "    .dataframe thead th {\n",
       "        text-align: right;\n",
       "    }\n",
       "</style>\n",
       "<table border=\"1\" class=\"dataframe\">\n",
       "  <thead>\n",
       "    <tr style=\"text-align: right;\">\n",
       "      <th></th>\n",
       "      <th>totalRecords</th>\n",
       "      <th>primaryKeyCount</th>\n",
       "    </tr>\n",
       "  </thead>\n",
       "  <tbody>\n",
       "    <tr>\n",
       "      <th>0</th>\n",
       "      <td>10857084</td>\n",
       "      <td>10857084</td>\n",
       "    </tr>\n",
       "  </tbody>\n",
       "</table>\n",
       "</div>"
      ],
      "text/plain": [
       "   totalRecords  primaryKeyCount\n",
       "0      10857084         10857084"
      ]
     },
     "execution_count": 12,
     "metadata": {},
     "output_type": "execute_result"
    }
   ],
   "source": [
    "%%bigquery\n",
    "SELECT count(*) as totalRecords, count(nconst) as primaryKeyCount\n",
    "FROM datamart.Name_basics"
   ]
  },
  {
   "cell_type": "markdown",
   "id": "atmospheric-waters",
   "metadata": {},
   "source": [
    "Convert string nulls to int nulls (startYear, endYear, runtimeMinutes)"
   ]
  },
  {
   "cell_type": "code",
   "execution_count": 5,
   "id": "typical-twelve",
   "metadata": {},
   "outputs": [
    {
     "data": {
      "text/html": [
       "<div>\n",
       "<style scoped>\n",
       "    .dataframe tbody tr th:only-of-type {\n",
       "        vertical-align: middle;\n",
       "    }\n",
       "\n",
       "    .dataframe tbody tr th {\n",
       "        vertical-align: top;\n",
       "    }\n",
       "\n",
       "    .dataframe thead th {\n",
       "        text-align: right;\n",
       "    }\n",
       "</style>\n",
       "<table border=\"1\" class=\"dataframe\">\n",
       "  <thead>\n",
       "    <tr style=\"text-align: right;\">\n",
       "      <th></th>\n",
       "    </tr>\n",
       "  </thead>\n",
       "  <tbody>\n",
       "  </tbody>\n",
       "</table>\n",
       "</div>"
      ],
      "text/plain": [
       "Empty DataFrame\n",
       "Columns: []\n",
       "Index: []"
      ]
     },
     "execution_count": 5,
     "metadata": {},
     "output_type": "execute_result"
    }
   ],
   "source": [
    "%%bigquery\n",
    "UPDATE IMDB_staging.title_basics\n",
    "SET startYear = '0'\n",
    "WHERE startYear = '\\\\N'"
   ]
  },
  {
   "cell_type": "code",
   "execution_count": 6,
   "id": "rising-grave",
   "metadata": {},
   "outputs": [
    {
     "data": {
      "text/html": [
       "<div>\n",
       "<style scoped>\n",
       "    .dataframe tbody tr th:only-of-type {\n",
       "        vertical-align: middle;\n",
       "    }\n",
       "\n",
       "    .dataframe tbody tr th {\n",
       "        vertical-align: top;\n",
       "    }\n",
       "\n",
       "    .dataframe thead th {\n",
       "        text-align: right;\n",
       "    }\n",
       "</style>\n",
       "<table border=\"1\" class=\"dataframe\">\n",
       "  <thead>\n",
       "    <tr style=\"text-align: right;\">\n",
       "      <th></th>\n",
       "    </tr>\n",
       "  </thead>\n",
       "  <tbody>\n",
       "  </tbody>\n",
       "</table>\n",
       "</div>"
      ],
      "text/plain": [
       "Empty DataFrame\n",
       "Columns: []\n",
       "Index: []"
      ]
     },
     "execution_count": 6,
     "metadata": {},
     "output_type": "execute_result"
    }
   ],
   "source": [
    "%%bigquery\n",
    "UPDATE IMDB_staging.title_basics\n",
    "SET endYear = '0'\n",
    "WHERE endYear = '\\\\N'"
   ]
  },
  {
   "cell_type": "code",
   "execution_count": 7,
   "id": "approved-faculty",
   "metadata": {},
   "outputs": [
    {
     "data": {
      "text/html": [
       "<div>\n",
       "<style scoped>\n",
       "    .dataframe tbody tr th:only-of-type {\n",
       "        vertical-align: middle;\n",
       "    }\n",
       "\n",
       "    .dataframe tbody tr th {\n",
       "        vertical-align: top;\n",
       "    }\n",
       "\n",
       "    .dataframe thead th {\n",
       "        text-align: right;\n",
       "    }\n",
       "</style>\n",
       "<table border=\"1\" class=\"dataframe\">\n",
       "  <thead>\n",
       "    <tr style=\"text-align: right;\">\n",
       "      <th></th>\n",
       "    </tr>\n",
       "  </thead>\n",
       "  <tbody>\n",
       "  </tbody>\n",
       "</table>\n",
       "</div>"
      ],
      "text/plain": [
       "Empty DataFrame\n",
       "Columns: []\n",
       "Index: []"
      ]
     },
     "execution_count": 7,
     "metadata": {},
     "output_type": "execute_result"
    }
   ],
   "source": [
    "%%bigquery\n",
    "UPDATE IMDB_staging.title_basics\n",
    "SET runtimeMinutes = '0'\n",
    "WHERE runtimeMinutes = '\\\\N'"
   ]
  },
  {
   "cell_type": "markdown",
   "id": "rough-gateway",
   "metadata": {},
   "source": [
    "### Create Title_basics table"
   ]
  },
  {
   "cell_type": "code",
   "execution_count": 13,
   "id": "transsexual-publication",
   "metadata": {},
   "outputs": [
    {
     "data": {
      "text/html": [
       "<div>\n",
       "<style scoped>\n",
       "    .dataframe tbody tr th:only-of-type {\n",
       "        vertical-align: middle;\n",
       "    }\n",
       "\n",
       "    .dataframe tbody tr th {\n",
       "        vertical-align: top;\n",
       "    }\n",
       "\n",
       "    .dataframe thead th {\n",
       "        text-align: right;\n",
       "    }\n",
       "</style>\n",
       "<table border=\"1\" class=\"dataframe\">\n",
       "  <thead>\n",
       "    <tr style=\"text-align: right;\">\n",
       "      <th></th>\n",
       "    </tr>\n",
       "  </thead>\n",
       "  <tbody>\n",
       "  </tbody>\n",
       "</table>\n",
       "</div>"
      ],
      "text/plain": [
       "Empty DataFrame\n",
       "Columns: []\n",
       "Index: []"
      ]
     },
     "execution_count": 13,
     "metadata": {},
     "output_type": "execute_result"
    }
   ],
   "source": [
    "%%bigquery\n",
    "CREATE TABLE datamart.Title_basics as\n",
    "SELECT tconst as titleId, titleType, primaryTitle, originalTitle, CAST(startYear as INT64) as startYear, CAST(endYear as INT64) as endYear , CAST(runtimeMinutes as INT64) as runtimeMinutes, genres\n",
    "FROM IMDB_staging.title_basics"
   ]
  },
  {
   "cell_type": "markdown",
   "id": "consolidated-vampire",
   "metadata": {},
   "source": [
    "Checking primary key (titleId) in Title_basics table"
   ]
  },
  {
   "cell_type": "code",
   "execution_count": 11,
   "id": "matched-mountain",
   "metadata": {},
   "outputs": [
    {
     "data": {
      "text/html": [
       "<div>\n",
       "<style scoped>\n",
       "    .dataframe tbody tr th:only-of-type {\n",
       "        vertical-align: middle;\n",
       "    }\n",
       "\n",
       "    .dataframe tbody tr th {\n",
       "        vertical-align: top;\n",
       "    }\n",
       "\n",
       "    .dataframe thead th {\n",
       "        text-align: right;\n",
       "    }\n",
       "</style>\n",
       "<table border=\"1\" class=\"dataframe\">\n",
       "  <thead>\n",
       "    <tr style=\"text-align: right;\">\n",
       "      <th></th>\n",
       "      <th>totalRecords</th>\n",
       "      <th>primaryKeyCount</th>\n",
       "    </tr>\n",
       "  </thead>\n",
       "  <tbody>\n",
       "    <tr>\n",
       "      <th>0</th>\n",
       "      <td>7806188</td>\n",
       "      <td>7806188</td>\n",
       "    </tr>\n",
       "  </tbody>\n",
       "</table>\n",
       "</div>"
      ],
      "text/plain": [
       "   totalRecords  primaryKeyCount\n",
       "0       7806188          7806188"
      ]
     },
     "execution_count": 11,
     "metadata": {},
     "output_type": "execute_result"
    }
   ],
   "source": [
    "%%bigquery\n",
    "SELECT count(*) as totalRecords, count(titleId) as primaryKeyCount\n",
    "FROM datamart.Title_basics"
   ]
  },
  {
   "cell_type": "markdown",
   "id": "numerous-morris",
   "metadata": {},
   "source": [
    "### Creating Title_principals table"
   ]
  },
  {
   "cell_type": "code",
   "execution_count": 14,
   "id": "representative-carbon",
   "metadata": {},
   "outputs": [
    {
     "data": {
      "text/html": [
       "<div>\n",
       "<style scoped>\n",
       "    .dataframe tbody tr th:only-of-type {\n",
       "        vertical-align: middle;\n",
       "    }\n",
       "\n",
       "    .dataframe tbody tr th {\n",
       "        vertical-align: top;\n",
       "    }\n",
       "\n",
       "    .dataframe thead th {\n",
       "        text-align: right;\n",
       "    }\n",
       "</style>\n",
       "<table border=\"1\" class=\"dataframe\">\n",
       "  <thead>\n",
       "    <tr style=\"text-align: right;\">\n",
       "      <th></th>\n",
       "    </tr>\n",
       "  </thead>\n",
       "  <tbody>\n",
       "  </tbody>\n",
       "</table>\n",
       "</div>"
      ],
      "text/plain": [
       "Empty DataFrame\n",
       "Columns: []\n",
       "Index: []"
      ]
     },
     "execution_count": 14,
     "metadata": {},
     "output_type": "execute_result"
    }
   ],
   "source": [
    "%%bigquery\n",
    "CREATE TABLE datamart.Title_principals as\n",
    "SELECT tconst as titleId, ordering, nconst, category, job, characters\n",
    "FROM IMDB_staging.title_principals"
   ]
  },
  {
   "cell_type": "markdown",
   "id": "hispanic-liabilities",
   "metadata": {},
   "source": [
    "Checking primary key (titleId, ordering) and the foreign keys(nconst, titleId) in Title_basics table"
   ]
  },
  {
   "cell_type": "code",
   "execution_count": 13,
   "id": "institutional-algeria",
   "metadata": {},
   "outputs": [
    {
     "data": {
      "text/html": [
       "<div>\n",
       "<style scoped>\n",
       "    .dataframe tbody tr th:only-of-type {\n",
       "        vertical-align: middle;\n",
       "    }\n",
       "\n",
       "    .dataframe tbody tr th {\n",
       "        vertical-align: top;\n",
       "    }\n",
       "\n",
       "    .dataframe thead th {\n",
       "        text-align: right;\n",
       "    }\n",
       "</style>\n",
       "<table border=\"1\" class=\"dataframe\">\n",
       "  <thead>\n",
       "    <tr style=\"text-align: right;\">\n",
       "      <th></th>\n",
       "      <th>totalRecords</th>\n",
       "      <th>titleIdPrimaryKeyCount</th>\n",
       "      <th>orderingPrimaryKeyCount</th>\n",
       "      <th>foreignKeyCount</th>\n",
       "    </tr>\n",
       "  </thead>\n",
       "  <tbody>\n",
       "    <tr>\n",
       "      <th>0</th>\n",
       "      <td>44159688</td>\n",
       "      <td>44159688</td>\n",
       "      <td>44159688</td>\n",
       "      <td>44159688</td>\n",
       "    </tr>\n",
       "  </tbody>\n",
       "</table>\n",
       "</div>"
      ],
      "text/plain": [
       "   totalRecords  titleIdPrimaryKeyCount  orderingPrimaryKeyCount  \\\n",
       "0      44159688                44159688                 44159688   \n",
       "\n",
       "   foreignKeyCount  \n",
       "0         44159688  "
      ]
     },
     "execution_count": 13,
     "metadata": {},
     "output_type": "execute_result"
    }
   ],
   "source": [
    "%%bigquery\n",
    "SELECT count(*) as totalRecords, count(titleId) as titleIdPrimaryKeyCount, count(ordering) as orderingPrimaryKeyCount, count(nconst) as foreignKeyCount\n",
    "FROM datamart.Title_principals"
   ]
  },
  {
   "cell_type": "markdown",
   "id": "sacred-sperm",
   "metadata": {},
   "source": [
    "Convert string nulls to int nulls (seasonNumber and episodeNumber)"
   ]
  },
  {
   "cell_type": "code",
   "execution_count": 17,
   "id": "arctic-group",
   "metadata": {},
   "outputs": [
    {
     "data": {
      "text/html": [
       "<div>\n",
       "<style scoped>\n",
       "    .dataframe tbody tr th:only-of-type {\n",
       "        vertical-align: middle;\n",
       "    }\n",
       "\n",
       "    .dataframe tbody tr th {\n",
       "        vertical-align: top;\n",
       "    }\n",
       "\n",
       "    .dataframe thead th {\n",
       "        text-align: right;\n",
       "    }\n",
       "</style>\n",
       "<table border=\"1\" class=\"dataframe\">\n",
       "  <thead>\n",
       "    <tr style=\"text-align: right;\">\n",
       "      <th></th>\n",
       "    </tr>\n",
       "  </thead>\n",
       "  <tbody>\n",
       "  </tbody>\n",
       "</table>\n",
       "</div>"
      ],
      "text/plain": [
       "Empty DataFrame\n",
       "Columns: []\n",
       "Index: []"
      ]
     },
     "execution_count": 17,
     "metadata": {},
     "output_type": "execute_result"
    }
   ],
   "source": [
    "%%bigquery\n",
    "UPDATE IMDB_staging.title_episode\n",
    "SET seasonNumber = '0'\n",
    "WHERE seasonNumber = '\\\\N'"
   ]
  },
  {
   "cell_type": "code",
   "execution_count": 18,
   "id": "economic-lambda",
   "metadata": {},
   "outputs": [
    {
     "data": {
      "text/html": [
       "<div>\n",
       "<style scoped>\n",
       "    .dataframe tbody tr th:only-of-type {\n",
       "        vertical-align: middle;\n",
       "    }\n",
       "\n",
       "    .dataframe tbody tr th {\n",
       "        vertical-align: top;\n",
       "    }\n",
       "\n",
       "    .dataframe thead th {\n",
       "        text-align: right;\n",
       "    }\n",
       "</style>\n",
       "<table border=\"1\" class=\"dataframe\">\n",
       "  <thead>\n",
       "    <tr style=\"text-align: right;\">\n",
       "      <th></th>\n",
       "    </tr>\n",
       "  </thead>\n",
       "  <tbody>\n",
       "  </tbody>\n",
       "</table>\n",
       "</div>"
      ],
      "text/plain": [
       "Empty DataFrame\n",
       "Columns: []\n",
       "Index: []"
      ]
     },
     "execution_count": 18,
     "metadata": {},
     "output_type": "execute_result"
    }
   ],
   "source": [
    "%%bigquery\n",
    "UPDATE IMDB_staging.title_episode\n",
    "SET episodeNumber = '0'\n",
    "WHERE episodeNumber = '\\\\N'"
   ]
  },
  {
   "cell_type": "markdown",
   "id": "dedicated-radiation",
   "metadata": {},
   "source": [
    "### Creating Title_episode table"
   ]
  },
  {
   "cell_type": "code",
   "execution_count": 20,
   "id": "abroad-hours",
   "metadata": {},
   "outputs": [
    {
     "data": {
      "text/html": [
       "<div>\n",
       "<style scoped>\n",
       "    .dataframe tbody tr th:only-of-type {\n",
       "        vertical-align: middle;\n",
       "    }\n",
       "\n",
       "    .dataframe tbody tr th {\n",
       "        vertical-align: top;\n",
       "    }\n",
       "\n",
       "    .dataframe thead th {\n",
       "        text-align: right;\n",
       "    }\n",
       "</style>\n",
       "<table border=\"1\" class=\"dataframe\">\n",
       "  <thead>\n",
       "    <tr style=\"text-align: right;\">\n",
       "      <th></th>\n",
       "    </tr>\n",
       "  </thead>\n",
       "  <tbody>\n",
       "  </tbody>\n",
       "</table>\n",
       "</div>"
      ],
      "text/plain": [
       "Empty DataFrame\n",
       "Columns: []\n",
       "Index: []"
      ]
     },
     "execution_count": 20,
     "metadata": {},
     "output_type": "execute_result"
    }
   ],
   "source": [
    "%%bigquery\n",
    "CREATE TABLE datamart.Title_episode as\n",
    "SELECT tconst as epId, parentTconst as titleId, CAST(seasonNumber as INT64) as seasonNumber, CAST(episodeNumber as INT64) as episodeNumber\n",
    "FROM IMDB_staging.title_episode"
   ]
  },
  {
   "cell_type": "markdown",
   "id": "significant-christianity",
   "metadata": {},
   "source": [
    "Checking primary key (titleId) and foreign Key (epid) in Title_episode table"
   ]
  },
  {
   "cell_type": "code",
   "execution_count": 10,
   "id": "efficient-friday",
   "metadata": {},
   "outputs": [
    {
     "data": {
      "text/html": [
       "<div>\n",
       "<style scoped>\n",
       "    .dataframe tbody tr th:only-of-type {\n",
       "        vertical-align: middle;\n",
       "    }\n",
       "\n",
       "    .dataframe tbody tr th {\n",
       "        vertical-align: top;\n",
       "    }\n",
       "\n",
       "    .dataframe thead th {\n",
       "        text-align: right;\n",
       "    }\n",
       "</style>\n",
       "<table border=\"1\" class=\"dataframe\">\n",
       "  <thead>\n",
       "    <tr style=\"text-align: right;\">\n",
       "      <th></th>\n",
       "      <th>totalRecords</th>\n",
       "      <th>primaryKeyCount</th>\n",
       "      <th>foreignKeyCount</th>\n",
       "    </tr>\n",
       "  </thead>\n",
       "  <tbody>\n",
       "    <tr>\n",
       "      <th>0</th>\n",
       "      <td>5683026</td>\n",
       "      <td>5683026</td>\n",
       "      <td>5683026</td>\n",
       "    </tr>\n",
       "  </tbody>\n",
       "</table>\n",
       "</div>"
      ],
      "text/plain": [
       "   totalRecords  primaryKeyCount  foreignKeyCount\n",
       "0       5683026          5683026          5683026"
      ]
     },
     "execution_count": 10,
     "metadata": {},
     "output_type": "execute_result"
    }
   ],
   "source": [
    "%%bigquery\n",
    "SELECT count(*) as totalRecords, count(titleId) as primaryKeyCount, count(epid) as foreignKeyCount\n",
    "FROM datamart.Title_episode"
   ]
  },
  {
   "cell_type": "markdown",
   "id": "ordered-ticket",
   "metadata": {},
   "source": [
    "### Creating Title_crew table"
   ]
  },
  {
   "cell_type": "code",
   "execution_count": 21,
   "id": "stainless-making",
   "metadata": {},
   "outputs": [
    {
     "data": {
      "text/html": [
       "<div>\n",
       "<style scoped>\n",
       "    .dataframe tbody tr th:only-of-type {\n",
       "        vertical-align: middle;\n",
       "    }\n",
       "\n",
       "    .dataframe tbody tr th {\n",
       "        vertical-align: top;\n",
       "    }\n",
       "\n",
       "    .dataframe thead th {\n",
       "        text-align: right;\n",
       "    }\n",
       "</style>\n",
       "<table border=\"1\" class=\"dataframe\">\n",
       "  <thead>\n",
       "    <tr style=\"text-align: right;\">\n",
       "      <th></th>\n",
       "    </tr>\n",
       "  </thead>\n",
       "  <tbody>\n",
       "  </tbody>\n",
       "</table>\n",
       "</div>"
      ],
      "text/plain": [
       "Empty DataFrame\n",
       "Columns: []\n",
       "Index: []"
      ]
     },
     "execution_count": 21,
     "metadata": {},
     "output_type": "execute_result"
    }
   ],
   "source": [
    "%%bigquery\n",
    "CREATE TABLE datamart.Title_crew as\n",
    "SELECT tconst as titleId, directors, writers\n",
    "FROM IMDB_staging.title_crew"
   ]
  },
  {
   "cell_type": "markdown",
   "id": "ambient-workstation",
   "metadata": {},
   "source": [
    "Checking primary key/foreign key (titleId) in Title_crew table"
   ]
  },
  {
   "cell_type": "code",
   "execution_count": 15,
   "id": "three-asthma",
   "metadata": {},
   "outputs": [
    {
     "data": {
      "text/html": [
       "<div>\n",
       "<style scoped>\n",
       "    .dataframe tbody tr th:only-of-type {\n",
       "        vertical-align: middle;\n",
       "    }\n",
       "\n",
       "    .dataframe tbody tr th {\n",
       "        vertical-align: top;\n",
       "    }\n",
       "\n",
       "    .dataframe thead th {\n",
       "        text-align: right;\n",
       "    }\n",
       "</style>\n",
       "<table border=\"1\" class=\"dataframe\">\n",
       "  <thead>\n",
       "    <tr style=\"text-align: right;\">\n",
       "      <th></th>\n",
       "      <th>totalRecords</th>\n",
       "      <th>primaryKeyForeignKeyCount</th>\n",
       "    </tr>\n",
       "  </thead>\n",
       "  <tbody>\n",
       "    <tr>\n",
       "      <th>0</th>\n",
       "      <td>7806188</td>\n",
       "      <td>7806188</td>\n",
       "    </tr>\n",
       "  </tbody>\n",
       "</table>\n",
       "</div>"
      ],
      "text/plain": [
       "   totalRecords  primaryKeyForeignKeyCount\n",
       "0       7806188                    7806188"
      ]
     },
     "execution_count": 15,
     "metadata": {},
     "output_type": "execute_result"
    }
   ],
   "source": [
    "%%bigquery\n",
    "SELECT count(*) as totalRecords, count(titleId) as primaryKeyForeignKeyCount\n",
    "FROM datamart.Title_crew"
   ]
  },
  {
   "cell_type": "markdown",
   "id": "extreme-observer",
   "metadata": {},
   "source": [
    "Convert string '0' and '1' values to boolean values (isOriginalTitle)"
   ]
  },
  {
   "cell_type": "code",
   "execution_count": 13,
   "id": "saved-extension",
   "metadata": {},
   "outputs": [
    {
     "data": {
      "text/html": [
       "<div>\n",
       "<style scoped>\n",
       "    .dataframe tbody tr th:only-of-type {\n",
       "        vertical-align: middle;\n",
       "    }\n",
       "\n",
       "    .dataframe tbody tr th {\n",
       "        vertical-align: top;\n",
       "    }\n",
       "\n",
       "    .dataframe thead th {\n",
       "        text-align: right;\n",
       "    }\n",
       "</style>\n",
       "<table border=\"1\" class=\"dataframe\">\n",
       "  <thead>\n",
       "    <tr style=\"text-align: right;\">\n",
       "      <th></th>\n",
       "    </tr>\n",
       "  </thead>\n",
       "  <tbody>\n",
       "  </tbody>\n",
       "</table>\n",
       "</div>"
      ],
      "text/plain": [
       "Empty DataFrame\n",
       "Columns: []\n",
       "Index: []"
      ]
     },
     "execution_count": 13,
     "metadata": {},
     "output_type": "execute_result"
    }
   ],
   "source": [
    "%%bigquery\n",
    "UPDATE IMDB_staging.title_akas\n",
    "SET isOriginalTitle = 'TRUE'\n",
    "WHERE isOriginalTitle = '1'"
   ]
  },
  {
   "cell_type": "code",
   "execution_count": 14,
   "id": "protected-toolbox",
   "metadata": {},
   "outputs": [
    {
     "data": {
      "text/html": [
       "<div>\n",
       "<style scoped>\n",
       "    .dataframe tbody tr th:only-of-type {\n",
       "        vertical-align: middle;\n",
       "    }\n",
       "\n",
       "    .dataframe tbody tr th {\n",
       "        vertical-align: top;\n",
       "    }\n",
       "\n",
       "    .dataframe thead th {\n",
       "        text-align: right;\n",
       "    }\n",
       "</style>\n",
       "<table border=\"1\" class=\"dataframe\">\n",
       "  <thead>\n",
       "    <tr style=\"text-align: right;\">\n",
       "      <th></th>\n",
       "    </tr>\n",
       "  </thead>\n",
       "  <tbody>\n",
       "  </tbody>\n",
       "</table>\n",
       "</div>"
      ],
      "text/plain": [
       "Empty DataFrame\n",
       "Columns: []\n",
       "Index: []"
      ]
     },
     "execution_count": 14,
     "metadata": {},
     "output_type": "execute_result"
    }
   ],
   "source": [
    "%%bigquery\n",
    "UPDATE IMDB_staging.title_akas\n",
    "SET isOriginalTitle = 'FALSE'\n",
    "WHERE isOriginalTitle = '0'"
   ]
  },
  {
   "cell_type": "code",
   "execution_count": 15,
   "id": "intermediate-helping",
   "metadata": {},
   "outputs": [
    {
     "data": {
      "text/html": [
       "<div>\n",
       "<style scoped>\n",
       "    .dataframe tbody tr th:only-of-type {\n",
       "        vertical-align: middle;\n",
       "    }\n",
       "\n",
       "    .dataframe tbody tr th {\n",
       "        vertical-align: top;\n",
       "    }\n",
       "\n",
       "    .dataframe thead th {\n",
       "        text-align: right;\n",
       "    }\n",
       "</style>\n",
       "<table border=\"1\" class=\"dataframe\">\n",
       "  <thead>\n",
       "    <tr style=\"text-align: right;\">\n",
       "      <th></th>\n",
       "    </tr>\n",
       "  </thead>\n",
       "  <tbody>\n",
       "  </tbody>\n",
       "</table>\n",
       "</div>"
      ],
      "text/plain": [
       "Empty DataFrame\n",
       "Columns: []\n",
       "Index: []"
      ]
     },
     "execution_count": 15,
     "metadata": {},
     "output_type": "execute_result"
    }
   ],
   "source": [
    "%%bigquery\n",
    "UPDATE IMDB_staging.title_akas\n",
    "SET isOriginalTitle = 'NULL'\n",
    "WHERE isOriginalTitle = '\\\\N'"
   ]
  },
  {
   "cell_type": "markdown",
   "id": "single-causing",
   "metadata": {},
   "source": [
    "### Creating Title_akas table"
   ]
  },
  {
   "cell_type": "code",
   "execution_count": 16,
   "id": "other-climate",
   "metadata": {},
   "outputs": [
    {
     "data": {
      "text/html": [
       "<div>\n",
       "<style scoped>\n",
       "    .dataframe tbody tr th:only-of-type {\n",
       "        vertical-align: middle;\n",
       "    }\n",
       "\n",
       "    .dataframe tbody tr th {\n",
       "        vertical-align: top;\n",
       "    }\n",
       "\n",
       "    .dataframe thead th {\n",
       "        text-align: right;\n",
       "    }\n",
       "</style>\n",
       "<table border=\"1\" class=\"dataframe\">\n",
       "  <thead>\n",
       "    <tr style=\"text-align: right;\">\n",
       "      <th></th>\n",
       "    </tr>\n",
       "  </thead>\n",
       "  <tbody>\n",
       "  </tbody>\n",
       "</table>\n",
       "</div>"
      ],
      "text/plain": [
       "Empty DataFrame\n",
       "Columns: []\n",
       "Index: []"
      ]
     },
     "execution_count": 16,
     "metadata": {},
     "output_type": "execute_result"
    }
   ],
   "source": [
    "%%bigquery\n",
    "CREATE TABLE datamart.Title_akas as\n",
    "SELECT titleId, ordering, region, language, types, attributes, SAFE_CAST(isOriginalTitle as BOOL) as isOriginalTitle\n",
    "FROM IMDB_staging.title_akas"
   ]
  },
  {
   "cell_type": "markdown",
   "id": "appointed-place",
   "metadata": {},
   "source": [
    "Checking primary key/foreign key (titleId) and primaryKey(ordering) in Title_akas table"
   ]
  },
  {
   "cell_type": "code",
   "execution_count": 16,
   "id": "divine-progressive",
   "metadata": {},
   "outputs": [
    {
     "data": {
      "text/html": [
       "<div>\n",
       "<style scoped>\n",
       "    .dataframe tbody tr th:only-of-type {\n",
       "        vertical-align: middle;\n",
       "    }\n",
       "\n",
       "    .dataframe tbody tr th {\n",
       "        vertical-align: top;\n",
       "    }\n",
       "\n",
       "    .dataframe thead th {\n",
       "        text-align: right;\n",
       "    }\n",
       "</style>\n",
       "<table border=\"1\" class=\"dataframe\">\n",
       "  <thead>\n",
       "    <tr style=\"text-align: right;\">\n",
       "      <th></th>\n",
       "      <th>totalRecords</th>\n",
       "      <th>primaryKeyForeignKeyCount</th>\n",
       "      <th>primaryKeyCount</th>\n",
       "    </tr>\n",
       "  </thead>\n",
       "  <tbody>\n",
       "    <tr>\n",
       "      <th>0</th>\n",
       "      <td>25920383</td>\n",
       "      <td>25920383</td>\n",
       "      <td>25920383</td>\n",
       "    </tr>\n",
       "  </tbody>\n",
       "</table>\n",
       "</div>"
      ],
      "text/plain": [
       "   totalRecords  primaryKeyForeignKeyCount  primaryKeyCount\n",
       "0      25920383                   25920383         25920383"
      ]
     },
     "execution_count": 16,
     "metadata": {},
     "output_type": "execute_result"
    }
   ],
   "source": [
    "%%bigquery\n",
    "SELECT count(*) as totalRecords, count(titleId) as primaryKeyForeignKeyCount, count(ordering) as primaryKeyCount\n",
    "FROM datamart.Title_akas"
   ]
  },
  {
   "cell_type": "markdown",
   "id": "remarkable-overview",
   "metadata": {},
   "source": [
    "### Creating Title_ratings table"
   ]
  },
  {
   "cell_type": "code",
   "execution_count": 1,
   "id": "adjustable-arizona",
   "metadata": {},
   "outputs": [
    {
     "data": {
      "text/html": [
       "<div>\n",
       "<style scoped>\n",
       "    .dataframe tbody tr th:only-of-type {\n",
       "        vertical-align: middle;\n",
       "    }\n",
       "\n",
       "    .dataframe tbody tr th {\n",
       "        vertical-align: top;\n",
       "    }\n",
       "\n",
       "    .dataframe thead th {\n",
       "        text-align: right;\n",
       "    }\n",
       "</style>\n",
       "<table border=\"1\" class=\"dataframe\">\n",
       "  <thead>\n",
       "    <tr style=\"text-align: right;\">\n",
       "      <th></th>\n",
       "    </tr>\n",
       "  </thead>\n",
       "  <tbody>\n",
       "  </tbody>\n",
       "</table>\n",
       "</div>"
      ],
      "text/plain": [
       "Empty DataFrame\n",
       "Columns: []\n",
       "Index: []"
      ]
     },
     "execution_count": 1,
     "metadata": {},
     "output_type": "execute_result"
    }
   ],
   "source": [
    "%%bigquery\n",
    "CREATE TABLE datamart.Title_ratings as\n",
    "SELECT tconst as titleId, averageRating, numVotes\n",
    "FROM IMDB_staging.title_ratings"
   ]
  },
  {
   "cell_type": "markdown",
   "id": "moral-harvey",
   "metadata": {},
   "source": [
    "Checking primary key/foreign key (titleId) in Title_ratings table"
   ]
  },
  {
   "cell_type": "code",
   "execution_count": 17,
   "id": "selective-dylan",
   "metadata": {},
   "outputs": [
    {
     "data": {
      "text/html": [
       "<div>\n",
       "<style scoped>\n",
       "    .dataframe tbody tr th:only-of-type {\n",
       "        vertical-align: middle;\n",
       "    }\n",
       "\n",
       "    .dataframe tbody tr th {\n",
       "        vertical-align: top;\n",
       "    }\n",
       "\n",
       "    .dataframe thead th {\n",
       "        text-align: right;\n",
       "    }\n",
       "</style>\n",
       "<table border=\"1\" class=\"dataframe\">\n",
       "  <thead>\n",
       "    <tr style=\"text-align: right;\">\n",
       "      <th></th>\n",
       "      <th>totalRecords</th>\n",
       "      <th>primaryKeyForeignKeyCount</th>\n",
       "    </tr>\n",
       "  </thead>\n",
       "  <tbody>\n",
       "    <tr>\n",
       "      <th>0</th>\n",
       "      <td>1139872</td>\n",
       "      <td>1139872</td>\n",
       "    </tr>\n",
       "  </tbody>\n",
       "</table>\n",
       "</div>"
      ],
      "text/plain": [
       "   totalRecords  primaryKeyForeignKeyCount\n",
       "0       1139872                    1139872"
      ]
     },
     "execution_count": 17,
     "metadata": {},
     "output_type": "execute_result"
    }
   ],
   "source": [
    "%%bigquery\n",
    "SELECT count(*) as totalRecords, count(titleId) as primaryKeyForeignKeyCount\n",
    "FROM datamart.Title_ratings"
   ]
  },
  {
   "cell_type": "markdown",
   "id": "quarterly-template",
   "metadata": {},
   "source": [
    "### Creating Bollywood table by joining the title_basics table and creating the tconst (titleId) column"
   ]
  },
  {
   "cell_type": "code",
   "execution_count": 6,
   "id": "governing-phase",
   "metadata": {},
   "outputs": [
    {
     "data": {
      "text/html": [
       "<div>\n",
       "<style scoped>\n",
       "    .dataframe tbody tr th:only-of-type {\n",
       "        vertical-align: middle;\n",
       "    }\n",
       "\n",
       "    .dataframe tbody tr th {\n",
       "        vertical-align: top;\n",
       "    }\n",
       "\n",
       "    .dataframe thead th {\n",
       "        text-align: right;\n",
       "    }\n",
       "</style>\n",
       "<table border=\"1\" class=\"dataframe\">\n",
       "  <thead>\n",
       "    <tr style=\"text-align: right;\">\n",
       "      <th></th>\n",
       "    </tr>\n",
       "  </thead>\n",
       "  <tbody>\n",
       "  </tbody>\n",
       "</table>\n",
       "</div>"
      ],
      "text/plain": [
       "Empty DataFrame\n",
       "Columns: []\n",
       "Index: []"
      ]
     },
     "execution_count": 6,
     "metadata": {},
     "output_type": "execute_result"
    }
   ],
   "source": [
    "%%bigquery\n",
    "CREATE TABLE datamart.Bollywood as\n",
    "SELECT tb.tconst as titleId, b.*\n",
    "FROM Bollywood_staging.bollywood b join IMDB_staging.title_basics tb on b.Title = tb.originalTitle"
   ]
  },
  {
   "cell_type": "markdown",
   "id": "quarterly-expert",
   "metadata": {},
   "source": [
    "Checking primary key/foreign key (titleId) in Bollywood table"
   ]
  },
  {
   "cell_type": "code",
   "execution_count": 18,
   "id": "australian-exhaust",
   "metadata": {},
   "outputs": [
    {
     "data": {
      "text/html": [
       "<div>\n",
       "<style scoped>\n",
       "    .dataframe tbody tr th:only-of-type {\n",
       "        vertical-align: middle;\n",
       "    }\n",
       "\n",
       "    .dataframe tbody tr th {\n",
       "        vertical-align: top;\n",
       "    }\n",
       "\n",
       "    .dataframe thead th {\n",
       "        text-align: right;\n",
       "    }\n",
       "</style>\n",
       "<table border=\"1\" class=\"dataframe\">\n",
       "  <thead>\n",
       "    <tr style=\"text-align: right;\">\n",
       "      <th></th>\n",
       "      <th>totalRecords</th>\n",
       "      <th>primaryKeyForeignKeyCount</th>\n",
       "    </tr>\n",
       "  </thead>\n",
       "  <tbody>\n",
       "    <tr>\n",
       "      <th>0</th>\n",
       "      <td>37719</td>\n",
       "      <td>37719</td>\n",
       "    </tr>\n",
       "  </tbody>\n",
       "</table>\n",
       "</div>"
      ],
      "text/plain": [
       "   totalRecords  primaryKeyForeignKeyCount\n",
       "0         37719                      37719"
      ]
     },
     "execution_count": 18,
     "metadata": {},
     "output_type": "execute_result"
    }
   ],
   "source": [
    "%%bigquery\n",
    "SELECT count(*) as totalRecords, count(titleId) as primaryKeyForeignKeyCount\n",
    "FROM datamart.Bollywood"
   ]
  },
  {
   "cell_type": "markdown",
   "id": "egyptian-smile",
   "metadata": {},
   "source": [
    "### Creating Bollywood_actress table"
   ]
  },
  {
   "cell_type": "code",
   "execution_count": 2,
   "id": "embedded-essence",
   "metadata": {},
   "outputs": [
    {
     "data": {
      "text/html": [
       "<div>\n",
       "<style scoped>\n",
       "    .dataframe tbody tr th:only-of-type {\n",
       "        vertical-align: middle;\n",
       "    }\n",
       "\n",
       "    .dataframe tbody tr th {\n",
       "        vertical-align: top;\n",
       "    }\n",
       "\n",
       "    .dataframe thead th {\n",
       "        text-align: right;\n",
       "    }\n",
       "</style>\n",
       "<table border=\"1\" class=\"dataframe\">\n",
       "  <thead>\n",
       "    <tr style=\"text-align: right;\">\n",
       "      <th></th>\n",
       "    </tr>\n",
       "  </thead>\n",
       "  <tbody>\n",
       "  </tbody>\n",
       "</table>\n",
       "</div>"
      ],
      "text/plain": [
       "Empty DataFrame\n",
       "Columns: []\n",
       "Index: []"
      ]
     },
     "execution_count": 2,
     "metadata": {},
     "output_type": "execute_result"
    }
   ],
   "source": [
    "%%bigquery\n",
    "CREATE TABLE datamart.Bollywood_actress as\n",
    "SELECT Name as name, Height_in_cm_ as heightInCm, Debut_aslead_role as debutAsLeadRole\n",
    "FROM Bollywood_staging.bollywood_actress"
   ]
  },
  {
   "cell_type": "markdown",
   "id": "bridal-delivery",
   "metadata": {},
   "source": [
    "Checking primary key (name) in Bollywood_actress table"
   ]
  },
  {
   "cell_type": "code",
   "execution_count": 19,
   "id": "structured-bubble",
   "metadata": {},
   "outputs": [
    {
     "data": {
      "text/html": [
       "<div>\n",
       "<style scoped>\n",
       "    .dataframe tbody tr th:only-of-type {\n",
       "        vertical-align: middle;\n",
       "    }\n",
       "\n",
       "    .dataframe tbody tr th {\n",
       "        vertical-align: top;\n",
       "    }\n",
       "\n",
       "    .dataframe thead th {\n",
       "        text-align: right;\n",
       "    }\n",
       "</style>\n",
       "<table border=\"1\" class=\"dataframe\">\n",
       "  <thead>\n",
       "    <tr style=\"text-align: right;\">\n",
       "      <th></th>\n",
       "      <th>totalRecords</th>\n",
       "      <th>primaryKeyCount</th>\n",
       "    </tr>\n",
       "  </thead>\n",
       "  <tbody>\n",
       "    <tr>\n",
       "      <th>0</th>\n",
       "      <td>134</td>\n",
       "      <td>134</td>\n",
       "    </tr>\n",
       "  </tbody>\n",
       "</table>\n",
       "</div>"
      ],
      "text/plain": [
       "   totalRecords  primaryKeyCount\n",
       "0           134              134"
      ]
     },
     "execution_count": 19,
     "metadata": {},
     "output_type": "execute_result"
    }
   ],
   "source": [
    "%%bigquery\n",
    "SELECT count(*) as totalRecords, count(name) as primaryKeyCount\n",
    "FROM datamart.Bollywood_actress"
   ]
  },
  {
   "cell_type": "markdown",
   "id": "applicable-marine",
   "metadata": {},
   "source": [
    "### Creating Bollywood_actors table"
   ]
  },
  {
   "cell_type": "code",
   "execution_count": 3,
   "id": "joined-arbor",
   "metadata": {},
   "outputs": [
    {
     "data": {
      "text/html": [
       "<div>\n",
       "<style scoped>\n",
       "    .dataframe tbody tr th:only-of-type {\n",
       "        vertical-align: middle;\n",
       "    }\n",
       "\n",
       "    .dataframe tbody tr th {\n",
       "        vertical-align: top;\n",
       "    }\n",
       "\n",
       "    .dataframe thead th {\n",
       "        text-align: right;\n",
       "    }\n",
       "</style>\n",
       "<table border=\"1\" class=\"dataframe\">\n",
       "  <thead>\n",
       "    <tr style=\"text-align: right;\">\n",
       "      <th></th>\n",
       "    </tr>\n",
       "  </thead>\n",
       "  <tbody>\n",
       "  </tbody>\n",
       "</table>\n",
       "</div>"
      ],
      "text/plain": [
       "Empty DataFrame\n",
       "Columns: []\n",
       "Index: []"
      ]
     },
     "execution_count": 3,
     "metadata": {},
     "output_type": "execute_result"
    }
   ],
   "source": [
    "%%bigquery\n",
    "CREATE TABLE datamart.Bollywood_actors as\n",
    "SELECT Name as name, Height_in_cm_ as heightInCm\n",
    "FROM Bollywood_staging.bollywood_actors"
   ]
  },
  {
   "cell_type": "markdown",
   "id": "surgical-radical",
   "metadata": {},
   "source": [
    "Checking primary key (name) in Bollywood_actors table"
   ]
  },
  {
   "cell_type": "code",
   "execution_count": 21,
   "id": "everyday-knight",
   "metadata": {},
   "outputs": [
    {
     "data": {
      "text/html": [
       "<div>\n",
       "<style scoped>\n",
       "    .dataframe tbody tr th:only-of-type {\n",
       "        vertical-align: middle;\n",
       "    }\n",
       "\n",
       "    .dataframe tbody tr th {\n",
       "        vertical-align: top;\n",
       "    }\n",
       "\n",
       "    .dataframe thead th {\n",
       "        text-align: right;\n",
       "    }\n",
       "</style>\n",
       "<table border=\"1\" class=\"dataframe\">\n",
       "  <thead>\n",
       "    <tr style=\"text-align: right;\">\n",
       "      <th></th>\n",
       "      <th>totalRecords</th>\n",
       "      <th>primaryKeyCount</th>\n",
       "    </tr>\n",
       "  </thead>\n",
       "  <tbody>\n",
       "    <tr>\n",
       "      <th>0</th>\n",
       "      <td>139</td>\n",
       "      <td>139</td>\n",
       "    </tr>\n",
       "  </tbody>\n",
       "</table>\n",
       "</div>"
      ],
      "text/plain": [
       "   totalRecords  primaryKeyCount\n",
       "0           139              139"
      ]
     },
     "execution_count": 21,
     "metadata": {},
     "output_type": "execute_result"
    }
   ],
   "source": [
    "%%bigquery\n",
    "SELECT count(*) as totalRecords, count(name) as primaryKeyCount\n",
    "FROM datamart.Bollywood_actors"
   ]
  },
  {
   "cell_type": "markdown",
   "id": "after-chambers",
   "metadata": {},
   "source": [
    "### Continue to explore your data by writing SQL queries on your modeled tables:\n",
    "\n",
    "● Come up with 5 new queries, at least 3 of which should contain a subquery and\n",
    "at least 2 of which should contain an aggregation.\n",
    "\n",
    "● Each query should also include at least 2 clauses from this list: JOIN, WHERE,\n",
    "GROUP BY, HAVING, ORDER BY, LIMIT.\n",
    "\n",
    "● Precede each query with a Markdown comment that describes its function"
   ]
  },
  {
   "cell_type": "markdown",
   "id": "hawaiian-communication",
   "metadata": {},
   "source": [
    "### Who are the top 10 modern Bollywood directors based on the amount of movies they made from 1995 - 2021 (excluding unknowns)"
   ]
  },
  {
   "cell_type": "code",
   "execution_count": 45,
   "id": "ordinary-wholesale",
   "metadata": {},
   "outputs": [
    {
     "data": {
      "text/html": [
       "<div>\n",
       "<style scoped>\n",
       "    .dataframe tbody tr th:only-of-type {\n",
       "        vertical-align: middle;\n",
       "    }\n",
       "\n",
       "    .dataframe tbody tr th {\n",
       "        vertical-align: top;\n",
       "    }\n",
       "\n",
       "    .dataframe thead th {\n",
       "        text-align: right;\n",
       "    }\n",
       "</style>\n",
       "<table border=\"1\" class=\"dataframe\">\n",
       "  <thead>\n",
       "    <tr style=\"text-align: right;\">\n",
       "      <th></th>\n",
       "      <th>director</th>\n",
       "      <th>movieCount</th>\n",
       "    </tr>\n",
       "  </thead>\n",
       "  <tbody>\n",
       "    <tr>\n",
       "      <th>0</th>\n",
       "      <td>Vikramaditya Motwane</td>\n",
       "      <td>391</td>\n",
       "    </tr>\n",
       "    <tr>\n",
       "      <th>1</th>\n",
       "      <td>Bhushan Patel</td>\n",
       "      <td>357</td>\n",
       "    </tr>\n",
       "    <tr>\n",
       "      <th>2</th>\n",
       "      <td>Anees Bazmee</td>\n",
       "      <td>288</td>\n",
       "    </tr>\n",
       "    <tr>\n",
       "      <th>3</th>\n",
       "      <td>Vikram Bhatt</td>\n",
       "      <td>285</td>\n",
       "    </tr>\n",
       "    <tr>\n",
       "      <th>4</th>\n",
       "      <td>Kabir Khan</td>\n",
       "      <td>230</td>\n",
       "    </tr>\n",
       "    <tr>\n",
       "      <th>5</th>\n",
       "      <td>Mukul Abhyankar</td>\n",
       "      <td>224</td>\n",
       "    </tr>\n",
       "    <tr>\n",
       "      <th>6</th>\n",
       "      <td>Jeeva</td>\n",
       "      <td>201</td>\n",
       "    </tr>\n",
       "    <tr>\n",
       "      <th>7</th>\n",
       "      <td>Paresh Vinodray Savani</td>\n",
       "      <td>200</td>\n",
       "    </tr>\n",
       "    <tr>\n",
       "      <th>8</th>\n",
       "      <td>Karan Malhotra</td>\n",
       "      <td>190</td>\n",
       "    </tr>\n",
       "    <tr>\n",
       "      <th>9</th>\n",
       "      <td>Saawan Kumar</td>\n",
       "      <td>179</td>\n",
       "    </tr>\n",
       "  </tbody>\n",
       "</table>\n",
       "</div>"
      ],
      "text/plain": [
       "                 director  movieCount\n",
       "0    Vikramaditya Motwane         391\n",
       "1           Bhushan Patel         357\n",
       "2            Anees Bazmee         288\n",
       "3            Vikram Bhatt         285\n",
       "4              Kabir Khan         230\n",
       "5         Mukul Abhyankar         224\n",
       "6                   Jeeva         201\n",
       "7  Paresh Vinodray Savani         200\n",
       "8          Karan Malhotra         190\n",
       "9            Saawan Kumar         179"
      ]
     },
     "execution_count": 45,
     "metadata": {},
     "output_type": "execute_result"
    }
   ],
   "source": [
    "%%bigquery\n",
    "SELECT b.director, count(b.title) as movieCount\n",
    "FROM datamart.Bollywood b\n",
    "WHERE EXISTS(SELECT b2.year FROM datamart.Bollywood b2 WHERE b2.year > 1995 and b2.year < 2021 and b2.director != \"Unknown\" and b.director != \"Unknown\" and b.year = b2.year)\n",
    "GROUP BY b.director\n",
    "ORDER BY movieCount DESC\n",
    "Limit 10"
   ]
  },
  {
   "cell_type": "markdown",
   "id": "criminal-defense",
   "metadata": {},
   "source": [
    "### Who are the top 10 modern IMDB directors based on the amount of movies they made from 1995 - 2021 (excluding None type)"
   ]
  },
  {
   "cell_type": "code",
   "execution_count": 54,
   "id": "parallel-decade",
   "metadata": {},
   "outputs": [
    {
     "data": {
      "text/html": [
       "<div>\n",
       "<style scoped>\n",
       "    .dataframe tbody tr th:only-of-type {\n",
       "        vertical-align: middle;\n",
       "    }\n",
       "\n",
       "    .dataframe tbody tr th {\n",
       "        vertical-align: top;\n",
       "    }\n",
       "\n",
       "    .dataframe thead th {\n",
       "        text-align: right;\n",
       "    }\n",
       "</style>\n",
       "<table border=\"1\" class=\"dataframe\">\n",
       "  <thead>\n",
       "    <tr style=\"text-align: right;\">\n",
       "      <th></th>\n",
       "      <th>primaryName</th>\n",
       "      <th>movieCount</th>\n",
       "    </tr>\n",
       "  </thead>\n",
       "  <tbody>\n",
       "    <tr>\n",
       "      <th>0</th>\n",
       "      <td>Kevin McCarthy</td>\n",
       "      <td>5194</td>\n",
       "    </tr>\n",
       "    <tr>\n",
       "      <th>1</th>\n",
       "      <td>Khalil Herekar</td>\n",
       "      <td>3200</td>\n",
       "    </tr>\n",
       "    <tr>\n",
       "      <th>2</th>\n",
       "      <td>Pawan Kumar</td>\n",
       "      <td>3108</td>\n",
       "    </tr>\n",
       "    <tr>\n",
       "      <th>3</th>\n",
       "      <td>Chuck O'Neil</td>\n",
       "      <td>2859</td>\n",
       "    </tr>\n",
       "    <tr>\n",
       "      <th>4</th>\n",
       "      <td>Kaushik Ghatak</td>\n",
       "      <td>2808</td>\n",
       "    </tr>\n",
       "    <tr>\n",
       "      <th>5</th>\n",
       "      <td>Mark Corwin</td>\n",
       "      <td>2737</td>\n",
       "    </tr>\n",
       "    <tr>\n",
       "      <th>6</th>\n",
       "      <td>Nikos Foskolos</td>\n",
       "      <td>2496</td>\n",
       "    </tr>\n",
       "    <tr>\n",
       "      <th>7</th>\n",
       "      <td>Lewis Brindley</td>\n",
       "      <td>2343</td>\n",
       "    </tr>\n",
       "    <tr>\n",
       "      <th>8</th>\n",
       "      <td>Shashank Bali</td>\n",
       "      <td>2333</td>\n",
       "    </tr>\n",
       "    <tr>\n",
       "      <th>9</th>\n",
       "      <td>Ramji</td>\n",
       "      <td>2066</td>\n",
       "    </tr>\n",
       "  </tbody>\n",
       "</table>\n",
       "</div>"
      ],
      "text/plain": [
       "      primaryName  movieCount\n",
       "0  Kevin McCarthy        5194\n",
       "1  Khalil Herekar        3200\n",
       "2     Pawan Kumar        3108\n",
       "3    Chuck O'Neil        2859\n",
       "4  Kaushik Ghatak        2808\n",
       "5     Mark Corwin        2737\n",
       "6  Nikos Foskolos        2496\n",
       "7  Lewis Brindley        2343\n",
       "8   Shashank Bali        2333\n",
       "9           Ramji        2066"
      ]
     },
     "execution_count": 54,
     "metadata": {},
     "output_type": "execute_result"
    }
   ],
   "source": [
    "%%bigquery\n",
    "SELECT n.primaryName, count(tb.primaryTitle) as movieCount\n",
    "FROM datamart.Title_basics tb\n",
    "LEFT JOIN datamart.Title_crew c on tb.titleId = c.titleId\n",
    "LEFT JOIN datamart.Name_basics n on c.directors = n.nconst\n",
    "WHERE n.primaryName != \"None\" and EXISTS(SELECT tb.startYear FROM datamart.Title_basics tb2 WHERE tb2.startYear > 1995 and tb2.startYear < 2021 and tb.startYear = tb2.startYear)\n",
    "GROUP BY n.primaryName\n",
    "ORDER BY movieCount DESC\n",
    "Limit 10"
   ]
  },
  {
   "cell_type": "markdown",
   "id": "brave-border",
   "metadata": {},
   "source": [
    "### IMDB Top rated movies from top director "
   ]
  },
  {
   "cell_type": "code",
   "execution_count": 29,
   "id": "cleared-tuesday",
   "metadata": {},
   "outputs": [
    {
     "data": {
      "text/html": [
       "<div>\n",
       "<style scoped>\n",
       "    .dataframe tbody tr th:only-of-type {\n",
       "        vertical-align: middle;\n",
       "    }\n",
       "\n",
       "    .dataframe tbody tr th {\n",
       "        vertical-align: top;\n",
       "    }\n",
       "\n",
       "    .dataframe thead th {\n",
       "        text-align: right;\n",
       "    }\n",
       "</style>\n",
       "<table border=\"1\" class=\"dataframe\">\n",
       "  <thead>\n",
       "    <tr style=\"text-align: right;\">\n",
       "      <th></th>\n",
       "      <th>primaryName</th>\n",
       "      <th>primaryTitle</th>\n",
       "      <th>rating</th>\n",
       "    </tr>\n",
       "  </thead>\n",
       "  <tbody>\n",
       "    <tr>\n",
       "      <th>0</th>\n",
       "      <td>Kevin McCarthy</td>\n",
       "      <td>The Rouge Shoes</td>\n",
       "      <td>10.0</td>\n",
       "    </tr>\n",
       "  </tbody>\n",
       "</table>\n",
       "</div>"
      ],
      "text/plain": [
       "      primaryName     primaryTitle  rating\n",
       "0  Kevin McCarthy  The Rouge Shoes    10.0"
      ]
     },
     "execution_count": 29,
     "metadata": {},
     "output_type": "execute_result"
    }
   ],
   "source": [
    "%%bigquery\n",
    "SELECT n.primaryName, tb.primaryTitle, (SELECT MAX(tb2.averageRating) FROM datamart.Title_ratings tb2) as rating\n",
    "FROM datamart.Title_basics tb\n",
    "LEFT JOIN datamart.Title_crew c on tb.titleId = c.titleId\n",
    "LEFT JOIN datamart.Name_basics n on c.directors = n.nconst\n",
    "WHERE n.primaryName = \"Kevin McCarthy\" and tb.titleType = \"movie\""
   ]
  },
  {
   "cell_type": "markdown",
   "id": "surgical-stranger",
   "metadata": {},
   "source": [
    "### Bollywood top rated movies from top director "
   ]
  },
  {
   "cell_type": "code",
   "execution_count": 30,
   "id": "atomic-equality",
   "metadata": {},
   "outputs": [
    {
     "data": {
      "text/html": [
       "<div>\n",
       "<style scoped>\n",
       "    .dataframe tbody tr th:only-of-type {\n",
       "        vertical-align: middle;\n",
       "    }\n",
       "\n",
       "    .dataframe tbody tr th {\n",
       "        vertical-align: top;\n",
       "    }\n",
       "\n",
       "    .dataframe thead th {\n",
       "        text-align: right;\n",
       "    }\n",
       "</style>\n",
       "<table border=\"1\" class=\"dataframe\">\n",
       "  <thead>\n",
       "    <tr style=\"text-align: right;\">\n",
       "      <th></th>\n",
       "      <th>director</th>\n",
       "      <th>title</th>\n",
       "      <th>rating</th>\n",
       "    </tr>\n",
       "  </thead>\n",
       "  <tbody>\n",
       "    <tr>\n",
       "      <th>0</th>\n",
       "      <td>Vikramaditya Motwane</td>\n",
       "      <td>Trapped</td>\n",
       "      <td>10.0</td>\n",
       "    </tr>\n",
       "    <tr>\n",
       "      <th>1</th>\n",
       "      <td>Vikramaditya Motwane</td>\n",
       "      <td>Udaan</td>\n",
       "      <td>10.0</td>\n",
       "    </tr>\n",
       "    <tr>\n",
       "      <th>2</th>\n",
       "      <td>Vikramaditya Motwane</td>\n",
       "      <td>Lootera</td>\n",
       "      <td>10.0</td>\n",
       "    </tr>\n",
       "    <tr>\n",
       "      <th>3</th>\n",
       "      <td>Vikramaditya Motwane</td>\n",
       "      <td>Bhavesh Joshi Superhero</td>\n",
       "      <td>10.0</td>\n",
       "    </tr>\n",
       "  </tbody>\n",
       "</table>\n",
       "</div>"
      ],
      "text/plain": [
       "               director                    title  rating\n",
       "0  Vikramaditya Motwane                  Trapped    10.0\n",
       "1  Vikramaditya Motwane                    Udaan    10.0\n",
       "2  Vikramaditya Motwane                  Lootera    10.0\n",
       "3  Vikramaditya Motwane  Bhavesh Joshi Superhero    10.0"
      ]
     },
     "execution_count": 30,
     "metadata": {},
     "output_type": "execute_result"
    }
   ],
   "source": [
    "%%bigquery\n",
    "SELECT DISTINCT b.director, b.title, (SELECT MAX(tb2.averageRating) FROM datamart.Title_ratings tb2) as rating\n",
    "FROM datamart.Bollywood b\n",
    "JOIN datamart.Title_basics tb on b.titleId = tb.titleId\n",
    "JOIN datamart.Title_ratings tr on tb.titleID = tr.titleId\n",
    "WHERE b.director = \"Vikramaditya Motwane\" and tb.titleType = \"movie\" \n",
    "Limit 10"
   ]
  },
  {
   "cell_type": "markdown",
   "id": "verified-problem",
   "metadata": {},
   "source": [
    "###  What are the top 10 languages of the top grossing Bollywood movies? "
   ]
  },
  {
   "cell_type": "code",
   "execution_count": 37,
   "id": "affecting-genome",
   "metadata": {},
   "outputs": [
    {
     "data": {
      "text/html": [
       "<div>\n",
       "<style scoped>\n",
       "    .dataframe tbody tr th:only-of-type {\n",
       "        vertical-align: middle;\n",
       "    }\n",
       "\n",
       "    .dataframe tbody tr th {\n",
       "        vertical-align: top;\n",
       "    }\n",
       "\n",
       "    .dataframe thead th {\n",
       "        text-align: right;\n",
       "    }\n",
       "</style>\n",
       "<table border=\"1\" class=\"dataframe\">\n",
       "  <thead>\n",
       "    <tr style=\"text-align: right;\">\n",
       "      <th></th>\n",
       "      <th>title</th>\n",
       "      <th>language</th>\n",
       "      <th>GrossAmount</th>\n",
       "    </tr>\n",
       "  </thead>\n",
       "  <tbody>\n",
       "    <tr>\n",
       "      <th>0</th>\n",
       "      <td>Om Jai Jagadish</td>\n",
       "      <td>fr</td>\n",
       "      <td>2024.0</td>\n",
       "    </tr>\n",
       "    <tr>\n",
       "      <th>1</th>\n",
       "      <td>War</td>\n",
       "      <td>tr</td>\n",
       "      <td>2024.0</td>\n",
       "    </tr>\n",
       "    <tr>\n",
       "      <th>2</th>\n",
       "      <td>Alone</td>\n",
       "      <td>en</td>\n",
       "      <td>2024.0</td>\n",
       "    </tr>\n",
       "    <tr>\n",
       "      <th>3</th>\n",
       "      <td>Ghar Aaya Mera Pardesi</td>\n",
       "      <td>en</td>\n",
       "      <td>2024.0</td>\n",
       "    </tr>\n",
       "    <tr>\n",
       "      <th>4</th>\n",
       "      <td>Page 3</td>\n",
       "      <td>hi</td>\n",
       "      <td>2024.0</td>\n",
       "    </tr>\n",
       "    <tr>\n",
       "      <th>5</th>\n",
       "      <td>Goliyon Ki Rasleela Ram-Leela</td>\n",
       "      <td>en</td>\n",
       "      <td>2024.0</td>\n",
       "    </tr>\n",
       "    <tr>\n",
       "      <th>6</th>\n",
       "      <td>The Lunchbox</td>\n",
       "      <td>tr</td>\n",
       "      <td>2024.0</td>\n",
       "    </tr>\n",
       "    <tr>\n",
       "      <th>7</th>\n",
       "      <td>Bambai Ki Sethani</td>\n",
       "      <td>en</td>\n",
       "      <td>2024.0</td>\n",
       "    </tr>\n",
       "    <tr>\n",
       "      <th>8</th>\n",
       "      <td>Jallaad</td>\n",
       "      <td>en</td>\n",
       "      <td>2024.0</td>\n",
       "    </tr>\n",
       "    <tr>\n",
       "      <th>9</th>\n",
       "      <td>Baazigar</td>\n",
       "      <td>en</td>\n",
       "      <td>2024.0</td>\n",
       "    </tr>\n",
       "  </tbody>\n",
       "</table>\n",
       "</div>"
      ],
      "text/plain": [
       "                           title language  GrossAmount\n",
       "0                Om Jai Jagadish       fr       2024.0\n",
       "1                            War       tr       2024.0\n",
       "2                          Alone       en       2024.0\n",
       "3         Ghar Aaya Mera Pardesi       en       2024.0\n",
       "4                         Page 3       hi       2024.0\n",
       "5  Goliyon Ki Rasleela Ram-Leela       en       2024.0\n",
       "6                   The Lunchbox       tr       2024.0\n",
       "7              Bambai Ki Sethani       en       2024.0\n",
       "8                        Jallaad       en       2024.0\n",
       "9                       Baazigar       en       2024.0"
      ]
     },
     "execution_count": 37,
     "metadata": {},
     "output_type": "execute_result"
    }
   ],
   "source": [
    "%%bigquery \n",
    "SELECT b.title, ta.language, (SELECT MAX(b2.Highest_Grosser_By_Year_in_crores_) FROM datamart.Bollywood b2) as GrossAmount\n",
    "FROM datamart.Bollywood b\n",
    "JOIN datamart.Title_basics tb on b.titleId = tb.titleId\n",
    "JOIN datamart.Title_akas ta on tb.titleId = ta.titleId\n",
    "WHERE ta.language != \"\\\\N\"\n",
    "LIMIT 10"
   ]
  },
  {
   "cell_type": "markdown",
   "id": "lovely-hammer",
   "metadata": {},
   "source": [
    "### Create data visualizations:\n",
    "● Create a new BQ dataset for storing your reporting views. Name the dataset reports.\n",
    "\n",
    "● Choose 2 of your most interesting queries from the previous section.\n",
    "\n",
    "● Create a view for each query in the reports dataset and assign the view a descriptive name (e.g.Highest_Nominated_Movies).\n",
    "\n",
    "● Open Data Studio\n",
    "\n",
    "● In Data Studio, create a Data Source (using the + Create button) that accesses the views. You’ll need one Data Source per view.\n",
    "\n",
    "● Create a chart that visualizes the data in a compelling way.\n",
    "\n",
    "● Add both charts to a single Data Studio report (aka dashboard).\n",
    "\n",
    "● Download your dashboard as a pdf and name it dashboard-v1.pdf"
   ]
  },
  {
   "cell_type": "code",
   "execution_count": 38,
   "id": "maritime-boost",
   "metadata": {},
   "outputs": [],
   "source": [
    "dataset_id2 = \"reports\""
   ]
  },
  {
   "cell_type": "code",
   "execution_count": 39,
   "id": "seven-harbor",
   "metadata": {},
   "outputs": [
    {
     "name": "stdout",
     "output_type": "stream",
     "text": [
      "Dataset 'still-bank-302722:reports' successfully created.\n"
     ]
    }
   ],
   "source": [
    "!bq --location=US mk --dataset {dataset_id2}"
   ]
  },
  {
   "cell_type": "code",
   "execution_count": 43,
   "id": "beginning-richardson",
   "metadata": {},
   "outputs": [
    {
     "data": {
      "text/html": [
       "<div>\n",
       "<style scoped>\n",
       "    .dataframe tbody tr th:only-of-type {\n",
       "        vertical-align: middle;\n",
       "    }\n",
       "\n",
       "    .dataframe tbody tr th {\n",
       "        vertical-align: top;\n",
       "    }\n",
       "\n",
       "    .dataframe thead th {\n",
       "        text-align: right;\n",
       "    }\n",
       "</style>\n",
       "<table border=\"1\" class=\"dataframe\">\n",
       "  <thead>\n",
       "    <tr style=\"text-align: right;\">\n",
       "      <th></th>\n",
       "    </tr>\n",
       "  </thead>\n",
       "  <tbody>\n",
       "  </tbody>\n",
       "</table>\n",
       "</div>"
      ],
      "text/plain": [
       "Empty DataFrame\n",
       "Columns: []\n",
       "Index: []"
      ]
     },
     "execution_count": 43,
     "metadata": {},
     "output_type": "execute_result"
    }
   ],
   "source": [
    "%%bigquery \n",
    "CREATE VIEW reports.Top_10_Bollywood_Directors AS\n",
    "    SELECT b.director, count(b.title) as movieCount\n",
    "    FROM datamart.Bollywood b\n",
    "    WHERE EXISTS(SELECT b2.year FROM datamart.Bollywood b2 WHERE b2.year > 1995 and b2.year < 2021 and b2.director != \"Unknown\" and b.director != \"Unknown\" and b.year = b2.year)\n",
    "    GROUP BY b.director\n",
    "    ORDER BY movieCount DESC\n",
    "    Limit 10"
   ]
  },
  {
   "cell_type": "code",
   "execution_count": 44,
   "id": "satellite-astronomy",
   "metadata": {},
   "outputs": [
    {
     "data": {
      "text/html": [
       "<div>\n",
       "<style scoped>\n",
       "    .dataframe tbody tr th:only-of-type {\n",
       "        vertical-align: middle;\n",
       "    }\n",
       "\n",
       "    .dataframe tbody tr th {\n",
       "        vertical-align: top;\n",
       "    }\n",
       "\n",
       "    .dataframe thead th {\n",
       "        text-align: right;\n",
       "    }\n",
       "</style>\n",
       "<table border=\"1\" class=\"dataframe\">\n",
       "  <thead>\n",
       "    <tr style=\"text-align: right;\">\n",
       "      <th></th>\n",
       "    </tr>\n",
       "  </thead>\n",
       "  <tbody>\n",
       "  </tbody>\n",
       "</table>\n",
       "</div>"
      ],
      "text/plain": [
       "Empty DataFrame\n",
       "Columns: []\n",
       "Index: []"
      ]
     },
     "execution_count": 44,
     "metadata": {},
     "output_type": "execute_result"
    }
   ],
   "source": [
    "%%bigquery \n",
    "CREATE VIEW reports.Top_10_IMDB_Directors AS\n",
    "    SELECT n.primaryName, count(tb.primaryTitle) as movieCount\n",
    "    FROM datamart.Title_basics tb\n",
    "    LEFT JOIN datamart.Title_crew c on tb.titleId = c.titleId\n",
    "    LEFT JOIN datamart.Name_basics n on c.directors = n.nconst\n",
    "    WHERE n.primaryName != \"None\" and EXISTS(SELECT tb.startYear FROM datamart.Title_basics tb2 WHERE tb2.startYear > 1995 and tb2.startYear < 2021 and tb.startYear = tb2.startYear)\n",
    "    GROUP BY n.primaryName\n",
    "    ORDER BY movieCount DESC\n",
    "    Limit 10"
   ]
  },
  {
   "cell_type": "code",
   "execution_count": null,
   "id": "saved-depression",
   "metadata": {},
   "outputs": [],
   "source": []
  }
 ],
 "metadata": {
  "environment": {
   "name": "common-cpu.mnightly-2021-01-20-debian-10-test",
   "type": "gcloud",
   "uri": "gcr.io/deeplearning-platform-release/base-cpu:mnightly-2021-01-20-debian-10-test"
  },
  "kernelspec": {
   "display_name": "Python 3",
   "language": "python",
   "name": "python3"
  },
  "language_info": {
   "codemirror_mode": {
    "name": "ipython",
    "version": 3
   },
   "file_extension": ".py",
   "mimetype": "text/x-python",
   "name": "python",
   "nbconvert_exporter": "python",
   "pygments_lexer": "ipython3",
   "version": "3.7.9"
  }
 },
 "nbformat": 4,
 "nbformat_minor": 5
}
